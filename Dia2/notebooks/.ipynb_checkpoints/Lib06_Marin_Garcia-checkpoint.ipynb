{
 "metadata": {
  "name": "",
  "signature": "sha256:b06c4298fdd409f2d62864d3052f788f832a26602138fb8e5fb8b8fa3b54edac"
 },
 "nbformat": 3,
 "nbformat_minor": 0,
 "worksheets": [
  {
   "cells": [
    {
     "cell_type": "code",
     "collapsed": false,
     "input": [
      "%run ../talktools.py"
     ],
     "language": "python",
     "metadata": {},
     "outputs": [
      {
       "html": [
        "<link href='http://fonts.googleapis.com/css?family=Alegreya+Sans:100,300,400,500,700,800,900,100italic,300italic,400italic,500italic,700italic,800italic,900italic' rel='stylesheet' type='text/css'>\n",
        "<link href='http://fonts.googleapis.com/css?family=Arvo:400,700,400italic' rel='stylesheet' type='text/css'>\n",
        "<link href='http://fonts.googleapis.com/css?family=PT+Mono' rel='stylesheet' type='text/css'>\n",
        "<link href='http://fonts.googleapis.com/css?family=Shadows+Into+Light' rel='stylesheet' type='text/css'>\n",
        "<link href='http://fonts.googleapis.com/css?family=Nixie+One' rel='stylesheet' type='text/css'>\n",
        "<style>\n",
        "\n",
        "@font-face {\n",
        "    font-family: \"Computer Modern\";\n",
        "    src: url('http://mirrors.ctan.org/fonts/cm-unicode/fonts/otf/cmunss.otf');\n",
        "}\n",
        "\n",
        "#notebook_panel { /* main background */\n",
        "    background: rgb(245,245,245);\n",
        "}\n",
        "\n",
        "div.cell { /* set cell width */\n",
        "    width: 750px;\n",
        "}\n",
        "\n",
        "div #notebook { /* centre the content */\n",
        "    background: #fff; /* white background for content */\n",
        "    width: 1000px;\n",
        "    margin: auto;\n",
        "    padding-left: 0em;\n",
        "}\n",
        "\n",
        "#notebook li { /* More space between bullet points */\n",
        "margin-top:0.8em;\n",
        "}\n",
        "\n",
        "/* draw border around running cells */\n",
        "div.cell.border-box-sizing.code_cell.running { \n",
        "    border: 1px solid #111;\n",
        "}\n",
        "\n",
        "/* Put a solid color box around each cell and its output, visually linking them*/\n",
        "div.cell.code_cell {\n",
        "    background-color: rgb(256,256,256); \n",
        "    border-radius: 0px; \n",
        "    padding: 0.5em;\n",
        "    margin-left:1em;\n",
        "    margin-top: 1em;\n",
        "}\n",
        "\n",
        "div.text_cell_render{\n",
        "    font-family: 'Alegreya Sans' sans-serif;\n",
        "    line-height: 140%;\n",
        "    font-size: 125%;\n",
        "    font-weight: 400;\n",
        "    width:600px;\n",
        "    margin-left:auto;\n",
        "    margin-right:auto;\n",
        "}\n",
        "\n",
        "\n",
        "/* Formatting for header cells */\n",
        ".text_cell_render h1 {\n",
        "    font-family: 'Nixie One', serif;\n",
        "    font-style:regular;\n",
        "    font-weight: 400;    \n",
        "    font-size: 45pt;\n",
        "    line-height: 100%;\n",
        "    color: rgb(0,51,102);\n",
        "    margin-bottom: 0.5em;\n",
        "    margin-top: 0.5em;\n",
        "    display: block;\n",
        "}\t\n",
        ".text_cell_render h2 {\n",
        "    font-family: 'Nixie One', serif;\n",
        "    font-weight: 400;\n",
        "    font-size: 30pt;\n",
        "    line-height: 100%;\n",
        "    color: rgb(0,51,102);\n",
        "    margin-bottom: 0.1em;\n",
        "    margin-top: 0.3em;\n",
        "    display: block;\n",
        "}\t\n",
        "\n",
        ".text_cell_render h3 {\n",
        "    font-family: 'Nixie One', serif;\n",
        "    margin-top:16px;\n",
        "\tfont-size: 22pt;\n",
        "    font-weight: 600;\n",
        "    margin-bottom: 3px;\n",
        "    font-style: regular;\n",
        "    color: rgb(102,102,0);\n",
        "}\n",
        "\n",
        ".text_cell_render h4 {    /*Use this for captions*/\n",
        "    font-family: 'Nixie One', serif;\n",
        "    font-size: 14pt;\n",
        "    text-align: center;\n",
        "    margin-top: 0em;\n",
        "    margin-bottom: 2em;\n",
        "    font-style: regular;\n",
        "}\n",
        "\n",
        ".text_cell_render h5 {  /*Use this for small titles*/\n",
        "    font-family: 'Nixie One', sans-serif;\n",
        "    font-weight: 400;\n",
        "    font-size: 16pt;\n",
        "    color: rgb(163,0,0);\n",
        "    font-style: italic;\n",
        "    margin-bottom: .1em;\n",
        "    margin-top: 0.8em;\n",
        "    display: block;\n",
        "}\n",
        "\n",
        ".text_cell_render h6 { /*use this for copyright note*/\n",
        "    font-family: 'PT Mono', sans-serif;\n",
        "    font-weight: 300;\n",
        "    font-size: 9pt;\n",
        "    line-height: 100%;\n",
        "    color: grey;\n",
        "    margin-bottom: 1px;\n",
        "    margin-top: 1px;\n",
        "}\n",
        "\n",
        ".CodeMirror{\n",
        "        font-family: \"PT Mono\";\n",
        "        font-size: 90%;\n",
        "}\n",
        "\n",
        "</style>\n",
        "<script>\n",
        "    MathJax.Hub.Config({\n",
        "                        TeX: {\n",
        "                           extensions: [\"AMSmath.js\"],\n",
        "                           equationNumbers: { autoNumber: \"AMS\", useLabelIds: true}\n",
        "                           },\n",
        "                tex2jax: {\n",
        "                    inlineMath: [ ['$','$'], [\"\\\\(\",\"\\\\)\"] ],\n",
        "                    displayMath: [ ['$$','$$'], [\"\\\\[\",\"\\\\]\"] ]\n",
        "                },\n",
        "                displayAlign: 'center', // Change this to 'center' to center equations.\n",
        "                \"HTML-CSS\": {\n",
        "                    styles: {'.MathJax_Display': {\"margin\": 4}}\n",
        "                }\n",
        "        });\n",
        "</script>"
       ],
       "metadata": {},
       "output_type": "display_data",
       "text": [
        "<IPython.core.display.HTML at 0x77ae0f0>"
       ]
      }
     ],
     "prompt_number": 1
    },
    {
     "cell_type": "heading",
     "level": 1,
     "metadata": {},
     "source": [
      "Ejercicios 2"
     ]
    },
    {
     "cell_type": "heading",
     "level": 2,
     "metadata": {},
     "source": [
      "Cadenas"
     ]
    },
    {
     "cell_type": "code",
     "collapsed": false,
     "input": [
      "len('No le creas nada a mi mente dise\u00f1ada por los medios')"
     ],
     "language": "python",
     "metadata": {},
     "outputs": [
      {
       "metadata": {},
       "output_type": "pyout",
       "prompt_number": 2,
       "text": [
        "52"
       ]
      }
     ],
     "prompt_number": 2
    },
    {
     "cell_type": "code",
     "collapsed": false,
     "input": [
      "'     No le creas nada a mi mente        '.strip()"
     ],
     "language": "python",
     "metadata": {},
     "outputs": [
      {
       "metadata": {},
       "output_type": "pyout",
       "prompt_number": 3,
       "text": [
        "'No le creas nada a mi mente'"
       ]
      }
     ],
     "prompt_number": 3
    },
    {
     "cell_type": "code",
     "collapsed": false,
     "input": [
      "'No le creas nada a mi mente dise\u00f1ada por los medios'.replace('nada','mucho')"
     ],
     "language": "python",
     "metadata": {},
     "outputs": [
      {
       "metadata": {},
       "output_type": "pyout",
       "prompt_number": 4,
       "text": [
        "'No le creas mucho a mi mente dise\\xc3\\xb1ada por los medios'"
       ]
      }
     ],
     "prompt_number": 4
    },
    {
     "cell_type": "code",
     "collapsed": false,
     "input": [
      "'Hay %s que se cierran pero se destacan' % 'cicatrices'"
     ],
     "language": "python",
     "metadata": {},
     "outputs": [
      {
       "metadata": {},
       "output_type": "pyout",
       "prompt_number": 6,
       "text": [
        "'Hay cicatrices que se cierran pero se destacan'"
       ]
      }
     ],
     "prompt_number": 6
    },
    {
     "cell_type": "code",
     "collapsed": false,
     "input": [
      "'Hay demasiadas formas de morir.'.startswith('H')"
     ],
     "language": "python",
     "metadata": {},
     "outputs": [
      {
       "metadata": {},
       "output_type": "pyout",
       "prompt_number": 7,
       "text": [
        "True"
       ]
      }
     ],
     "prompt_number": 7
    },
    {
     "cell_type": "code",
     "collapsed": false,
     "input": [
      "'Hay que terminar ba\u00f1\u00e1ndonos en la azotea '.count('en')"
     ],
     "language": "python",
     "metadata": {},
     "outputs": [
      {
       "metadata": {},
       "output_type": "pyout",
       "prompt_number": 8,
       "text": [
        "1"
       ]
      }
     ],
     "prompt_number": 8
    },
    {
     "cell_type": "heading",
     "level": 2,
     "metadata": {},
     "source": [
      "Listas"
     ]
    },
    {
     "cell_type": "code",
     "collapsed": false,
     "input": [
      "' ;) '.join([\n",
      "    'Bienvenidos al curso de RySI 2014', \n",
      "    'donde aprender\u00e1n a usar un poco de Python',\n",
      "])"
     ],
     "language": "python",
     "metadata": {},
     "outputs": [
      {
       "metadata": {},
       "output_type": "pyout",
       "prompt_number": 12,
       "text": [
        "'Bienvenidos al curso de RySI 2014 ;) donde aprender\\xc3\\xa1n a usar un poco de Python'"
       ]
      }
     ],
     "prompt_number": 12
    },
    {
     "cell_type": "code",
     "collapsed": false,
     "input": [
      "'las piernas cruzadas, las manos en el regazo'.split(',')"
     ],
     "language": "python",
     "metadata": {},
     "outputs": [
      {
       "metadata": {},
       "output_type": "pyout",
       "prompt_number": 13,
       "text": [
        "['las piernas cruzadas', ' las manos en el regazo']"
       ]
      }
     ],
     "prompt_number": 13
    },
    {
     "cell_type": "code",
     "collapsed": false,
     "input": [
      "palabras = 'No soy diferente a la mayor parte de los seres humanos'.split()\n",
      "['*%s*' % x for x in palabras]"
     ],
     "language": "python",
     "metadata": {},
     "outputs": [
      {
       "metadata": {},
       "output_type": "pyout",
       "prompt_number": 14,
       "text": [
        "['*No*',\n",
        " '*soy*',\n",
        " '*diferente*',\n",
        " '*a*',\n",
        " '*la*',\n",
        " '*mayor*',\n",
        " '*parte*',\n",
        " '*de*',\n",
        " '*los*',\n",
        " '*seres*',\n",
        " '*humanos*']"
       ]
      }
     ],
     "prompt_number": 14
    },
    {
     "cell_type": "heading",
     "level": 4,
     "metadata": {},
     "source": [
      "Ejercicio"
     ]
    },
    {
     "cell_type": "code",
     "collapsed": false,
     "input": [
      "palabras = 'No soy diferente a la mayor parte de los seres humanos'.split()\n",
      "['*%s*' % x + ' - No. Caracteres: ' + str(len(x)) for x in palabras]"
     ],
     "language": "python",
     "metadata": {},
     "outputs": [
      {
       "metadata": {},
       "output_type": "pyout",
       "prompt_number": 19,
       "text": [
        "['*No* - No. Caracteres: 2',\n",
        " '*soy* - No. Caracteres: 3',\n",
        " '*diferente* - No. Caracteres: 9',\n",
        " '*a* - No. Caracteres: 1',\n",
        " '*la* - No. Caracteres: 2',\n",
        " '*mayor* - No. Caracteres: 5',\n",
        " '*parte* - No. Caracteres: 5',\n",
        " '*de* - No. Caracteres: 2',\n",
        " '*los* - No. Caracteres: 3',\n",
        " '*seres* - No. Caracteres: 5',\n",
        " '*humanos* - No. Caracteres: 7']"
       ]
      }
     ],
     "prompt_number": 19
    },
    {
     "cell_type": "heading",
     "level": 2,
     "metadata": {},
     "source": [
      "Diccionarios"
     ]
    },
    {
     "cell_type": "code",
     "collapsed": false,
     "input": [
      "codigoPorEstado = {'Aguascalientes' : 'AGU', 'Sonora' : 'SON', 'Oaxaca' : 'OAX',\n",
      "                   'Veracruz' : 'VER'}\n",
      "codigoPorEstado"
     ],
     "language": "python",
     "metadata": {},
     "outputs": [
      {
       "metadata": {},
       "output_type": "pyout",
       "prompt_number": 20,
       "text": [
        "{'Aguascalientes': 'AGU', 'Oaxaca': 'OAX', 'Sonora': 'SON', 'Veracruz': 'VER'}"
       ]
      }
     ],
     "prompt_number": 20
    },
    {
     "cell_type": "code",
     "collapsed": false,
     "input": [
      "codigoPorEstado.keys()"
     ],
     "language": "python",
     "metadata": {},
     "outputs": [
      {
       "metadata": {},
       "output_type": "pyout",
       "prompt_number": 21,
       "text": [
        "['Veracruz', 'Oaxaca', 'Aguascalientes', 'Sonora']"
       ]
      }
     ],
     "prompt_number": 21
    },
    {
     "cell_type": "code",
     "collapsed": false,
     "input": [
      "codigoPorEstado['Jalisco'] = 'JAL'\n",
      "codigoPorEstado"
     ],
     "language": "python",
     "metadata": {},
     "outputs": [
      {
       "metadata": {},
       "output_type": "pyout",
       "prompt_number": 22,
       "text": [
        "{'Aguascalientes': 'AGU',\n",
        " 'Jalisco': 'JAL',\n",
        " 'Oaxaca': 'OAX',\n",
        " 'Sonora': 'SON',\n",
        " 'Veracruz': 'VER'}"
       ]
      }
     ],
     "prompt_number": 22
    },
    {
     "cell_type": "code",
     "collapsed": false,
     "input": [
      "codigoPorEstado['Veracruz']"
     ],
     "language": "python",
     "metadata": {},
     "outputs": [
      {
       "metadata": {},
       "output_type": "pyout",
       "prompt_number": 23,
       "text": [
        "'VER'"
       ]
      }
     ],
     "prompt_number": 23
    },
    {
     "cell_type": "heading",
     "level": 4,
     "metadata": {},
     "source": [
      "Ejercicio"
     ]
    },
    {
     "cell_type": "code",
     "collapsed": false,
     "input": [
      "estadoPorCodigo = {codigo: estado for estado, codigo in codigoPorEstado.iteritems()}\n",
      "estadoPorCodigo"
     ],
     "language": "python",
     "metadata": {},
     "outputs": [
      {
       "metadata": {},
       "output_type": "pyout",
       "prompt_number": 24,
       "text": [
        "{'AGU': 'Aguascalientes',\n",
        " 'JAL': 'Jalisco',\n",
        " 'OAX': 'Oaxaca',\n",
        " 'SON': 'Sonora',\n",
        " 'VER': 'Veracruz'}"
       ]
      }
     ],
     "prompt_number": 24
    },
    {
     "cell_type": "heading",
     "level": 2,
     "metadata": {},
     "source": [
      "Funciones"
     ]
    },
    {
     "cell_type": "code",
     "collapsed": false,
     "input": [
      "def suma(x, y):\n",
      "    return x + y\n",
      "\n",
      "suma(1, 2)"
     ],
     "language": "python",
     "metadata": {},
     "outputs": [
      {
       "metadata": {},
       "output_type": "pyout",
       "prompt_number": 25,
       "text": [
        "3"
       ]
      }
     ],
     "prompt_number": 25
    },
    {
     "cell_type": "code",
     "collapsed": false,
     "input": [
      "multiplica = lambda x, y: x * y\n",
      "multiplica(1, 2)"
     ],
     "language": "python",
     "metadata": {},
     "outputs": [
      {
       "metadata": {},
       "output_type": "pyout",
       "prompt_number": 26,
       "text": [
        "2"
       ]
      }
     ],
     "prompt_number": 26
    },
    {
     "cell_type": "code",
     "collapsed": false,
     "input": [
      "metodos = [suma, multiplica]\n",
      "metodos"
     ],
     "language": "python",
     "metadata": {},
     "outputs": [
      {
       "metadata": {},
       "output_type": "pyout",
       "prompt_number": 27,
       "text": [
        "[<function __main__.suma>, <function __main__.<lambda>>]"
       ]
      }
     ],
     "prompt_number": 27
    },
    {
     "cell_type": "code",
     "collapsed": false,
     "input": [
      "import random\n",
      "for x in xrange(5):\n",
      "    combina = random.choice(metodos)\n",
      "    print combina(4, 5)"
     ],
     "language": "python",
     "metadata": {},
     "outputs": [
      {
       "output_type": "stream",
       "stream": "stdout",
       "text": [
        "20\n",
        "9\n",
        "20\n",
        "9\n",
        "20\n"
       ]
      }
     ],
     "prompt_number": 28
    },
    {
     "cell_type": "code",
     "collapsed": false,
     "input": [
      "from bs4 import BeautifulSoup\n",
      "from urllib2 import urlopen\n",
      "\n",
      "def get_enlaces(url):\n",
      "    html = urlopen(url).read()\n",
      "    enlaces = BeautifulSoup(html).find_all('a')\n",
      "    return [enlace.get('href') for enlace in enlaces]"
     ],
     "language": "python",
     "metadata": {},
     "outputs": [],
     "prompt_number": 29
    },
    {
     "cell_type": "code",
     "collapsed": false,
     "input": [
      "get_enlaces('http://www.lania.mx/')[:5]"
     ],
     "language": "python",
     "metadata": {},
     "outputs": [
      {
       "metadata": {},
       "output_type": "pyout",
       "prompt_number": 30,
       "text": [
        "['/index.php?option=com_content&view=article&id=6&Itemid=20',\n",
        " '/index.php?option=com_content&view=article&id=14&Itemid=12',\n",
        " '/index.php?option=com_content&view=article&id=45&Itemid=32',\n",
        " '/index.php?option=com_content&view=article&id=18&Itemid=15',\n",
        " '/index.php?option=com_content&view=article&id=13&Itemid=16']"
       ]
      }
     ],
     "prompt_number": 30
    },
    {
     "cell_type": "code",
     "collapsed": false,
     "input": [
      "get_enlaces('http://google.com')[:5]"
     ],
     "language": "python",
     "metadata": {},
     "outputs": [
      {
       "metadata": {},
       "output_type": "pyout",
       "prompt_number": 31,
       "text": [
        "['http://www.google.com.mx/imghp?hl=es-419&tab=wi',\n",
        " 'https://play.google.com/?hl=es-419&tab=w8',\n",
        " 'http://mx.youtube.com/?gl=MX&tab=w1',\n",
        " 'http://news.google.com.mx/nwshp?hl=es-419&tab=wn',\n",
        " 'https://mail.google.com/mail/?tab=wm']"
       ]
      }
     ],
     "prompt_number": 31
    },
    {
     "cell_type": "heading",
     "level": 4,
     "metadata": {},
     "source": [
      "Ejercicio"
     ]
    },
    {
     "cell_type": "code",
     "collapsed": false,
     "input": [
      "len(get_enlaces('http://www.lania.mx/'))"
     ],
     "language": "python",
     "metadata": {},
     "outputs": [
      {
       "metadata": {},
       "output_type": "pyout",
       "prompt_number": 33,
       "text": [
        "15"
       ]
      }
     ],
     "prompt_number": 33
    },
    {
     "cell_type": "heading",
     "level": 2,
     "metadata": {},
     "source": [
      "Clases"
     ]
    },
    {
     "cell_type": "code",
     "collapsed": false,
     "input": [
      "class Animal(object):\n",
      "    \n",
      "    def __init__(self, nombre):\n",
      "        self.nombre = nombre\n",
      "        self.estomago = []\n",
      "        \n",
      "    def __repr__(self):\n",
      "        return self.nombre\n",
      "    \n",
      "    def pregunta(self):\n",
      "        return '%s esta %s' % (self.nombre, 'lleno' if self.estomago else 'hambriento')\n",
      "    \n",
      "    def come(self, comida):\n",
      "        if comida in self.estomago:\n",
      "            print '%s ya comio %s' % (self.nombre, comida)\n",
      "        else:\n",
      "            print '%s come %s!' %(self.nombre, comida)\n",
      "            self.estomago.append(comida)"
     ],
     "language": "python",
     "metadata": {},
     "outputs": [],
     "prompt_number": 35
    },
    {
     "cell_type": "code",
     "collapsed": false,
     "input": [
      "tortuga = Animal('Donatello')\n",
      "gato = Animal('Gardfield')\n",
      "bestia = Animal('Chupacabras')"
     ],
     "language": "python",
     "metadata": {},
     "outputs": [],
     "prompt_number": 36
    },
    {
     "cell_type": "code",
     "collapsed": false,
     "input": [
      "bestia.nombre"
     ],
     "language": "python",
     "metadata": {},
     "outputs": [
      {
       "metadata": {},
       "output_type": "pyout",
       "prompt_number": 37,
       "text": [
        "'Chupacabras'"
       ]
      }
     ],
     "prompt_number": 37
    },
    {
     "cell_type": "code",
     "collapsed": false,
     "input": [
      "bestia.pregunta()"
     ],
     "language": "python",
     "metadata": {},
     "outputs": [
      {
       "metadata": {},
       "output_type": "pyout",
       "prompt_number": 38,
       "text": [
        "'Chupacabras esta hambriento'"
       ]
      }
     ],
     "prompt_number": 38
    },
    {
     "cell_type": "code",
     "collapsed": false,
     "input": [
      "bestia.come(gato)"
     ],
     "language": "python",
     "metadata": {},
     "outputs": [
      {
       "output_type": "stream",
       "stream": "stdout",
       "text": [
        "Chupacabras come Gardfield!\n"
       ]
      }
     ],
     "prompt_number": 39
    },
    {
     "cell_type": "code",
     "collapsed": false,
     "input": [
      "gato in bestia.estomago"
     ],
     "language": "python",
     "metadata": {},
     "outputs": [
      {
       "metadata": {},
       "output_type": "pyout",
       "prompt_number": 40,
       "text": [
        "True"
       ]
      }
     ],
     "prompt_number": 40
    },
    {
     "cell_type": "code",
     "collapsed": false,
     "input": [
      "tortuga in gato.estomago"
     ],
     "language": "python",
     "metadata": {},
     "outputs": [
      {
       "metadata": {},
       "output_type": "pyout",
       "prompt_number": 41,
       "text": [
        "False"
       ]
      }
     ],
     "prompt_number": 41
    },
    {
     "cell_type": "heading",
     "level": 2,
     "metadata": {},
     "source": [
      "Palabras reservadas"
     ]
    },
    {
     "cell_type": "code",
     "collapsed": false,
     "input": [
      "palabras = 'Porque las abejas hacen miel'.split()\n",
      "\n",
      "for index, palabra in enumerate(palabras):\n",
      "    print index, palabra"
     ],
     "language": "python",
     "metadata": {},
     "outputs": [
      {
       "output_type": "stream",
       "stream": "stdout",
       "text": [
        "0 Porque\n",
        "1 las\n",
        "2 abejas\n",
        "3 hacen\n",
        "4 miel\n"
       ]
      }
     ],
     "prompt_number": 47
    },
    {
     "cell_type": "code",
     "collapsed": false,
     "input": [
      "chicos = 'Pepe', 'Thomas', 'Alberto'\n",
      "chicas = 'Sandra', 'Esperanza', 'Rebeca'\n",
      "zip(chicos, chicas)"
     ],
     "language": "python",
     "metadata": {},
     "outputs": [
      {
       "metadata": {},
       "output_type": "pyout",
       "prompt_number": 50,
       "text": [
        "[('Pepe', 'Sandra'), ('Thomas', 'Esperanza'), ('Alberto', 'Rebeca')]"
       ]
      }
     ],
     "prompt_number": 50
    },
    {
     "cell_type": "heading",
     "level": 4,
     "metadata": {},
     "source": [
      "Ejercicio"
     ]
    },
    {
     "cell_type": "heading",
     "level": 6,
     "metadata": {},
     "source": [
      "Se crea una funci\u00f3n pasos_a_caminar(), esta imprime inicio, realiza un ciclo\n",
      "del 0 al 9, e imprmime fin. Al momento de preguntar si x > 5, cuando se cumple la\n",
      "condici\u00f3n se detiene el flujo, cosa que no sucede cuando se pregunta por x > 10, esa\n",
      "condici\u00f3n nunca se va a cumplir, porque el valor m\u00e1ximo ser\u00e1 9, por lo tanto sigue\n",
      "su flujo normal."
     ]
    },
    {
     "cell_type": "code",
     "collapsed": false,
     "input": [
      "from __builtin__ import any\n",
      "\n",
      "def pasos_a_caminar():\n",
      "    print 'inicio'\n",
      "    for i in xrange(10):\n",
      "        print i\n",
      "        yield i\n",
      "    print 'fin'\n",
      "\n",
      "# any() detiene el flujo tan pronto se cumpla la condicion\n",
      "print any(x > 5 for x in pasos_a_caminar())\n",
      "print\n",
      "print any(x > 10 for x in pasos_a_caminar())"
     ],
     "language": "python",
     "metadata": {},
     "outputs": [
      {
       "output_type": "stream",
       "stream": "stdout",
       "text": [
        "inicio\n",
        "0\n",
        "1\n",
        "2\n",
        "3\n",
        "4\n",
        "5\n",
        "6\n",
        "True\n",
        "\n",
        "inicio\n",
        "0\n",
        "1\n",
        "2\n",
        "3\n",
        "4\n",
        "5\n",
        "6\n",
        "7\n",
        "8\n",
        "9\n",
        "fin\n",
        "False\n"
       ]
      }
     ],
     "prompt_number": 57
    }
   ],
   "metadata": {}
  }
 ]
}