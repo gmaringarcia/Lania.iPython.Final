{
 "metadata": {
  "name": "",
  "signature": "sha256:a837ba58b65a303a2e546d1ae4ee289033cefb2ca33266490a6fc216a45d498e"
 },
 "nbformat": 3,
 "nbformat_minor": 0,
 "worksheets": [
  {
   "cells": [
    {
     "cell_type": "code",
     "collapsed": false,
     "input": [
      "%run ../talktools.py"
     ],
     "language": "python",
     "metadata": {},
     "outputs": [
      {
       "html": [
        "<link href='http://fonts.googleapis.com/css?family=Alegreya+Sans:100,300,400,500,700,800,900,100italic,300italic,400italic,500italic,700italic,800italic,900italic' rel='stylesheet' type='text/css'>\n",
        "<link href='http://fonts.googleapis.com/css?family=Arvo:400,700,400italic' rel='stylesheet' type='text/css'>\n",
        "<link href='http://fonts.googleapis.com/css?family=PT+Mono' rel='stylesheet' type='text/css'>\n",
        "<link href='http://fonts.googleapis.com/css?family=Shadows+Into+Light' rel='stylesheet' type='text/css'>\n",
        "<link href='http://fonts.googleapis.com/css?family=Nixie+One' rel='stylesheet' type='text/css'>\n",
        "<style>\n",
        "\n",
        "@font-face {\n",
        "    font-family: \"Computer Modern\";\n",
        "    src: url('http://mirrors.ctan.org/fonts/cm-unicode/fonts/otf/cmunss.otf');\n",
        "}\n",
        "\n",
        "#notebook_panel { /* main background */\n",
        "    background: rgb(245,245,245);\n",
        "}\n",
        "\n",
        "div.cell { /* set cell width */\n",
        "    width: 750px;\n",
        "}\n",
        "\n",
        "div #notebook { /* centre the content */\n",
        "    background: #fff; /* white background for content */\n",
        "    width: 1000px;\n",
        "    margin: auto;\n",
        "    padding-left: 0em;\n",
        "}\n",
        "\n",
        "#notebook li { /* More space between bullet points */\n",
        "margin-top:0.8em;\n",
        "}\n",
        "\n",
        "/* draw border around running cells */\n",
        "div.cell.border-box-sizing.code_cell.running { \n",
        "    border: 1px solid #111;\n",
        "}\n",
        "\n",
        "/* Put a solid color box around each cell and its output, visually linking them*/\n",
        "div.cell.code_cell {\n",
        "    background-color: rgb(256,256,256); \n",
        "    border-radius: 0px; \n",
        "    padding: 0.5em;\n",
        "    margin-left:1em;\n",
        "    margin-top: 1em;\n",
        "}\n",
        "\n",
        "div.text_cell_render{\n",
        "    font-family: 'Alegreya Sans' sans-serif;\n",
        "    line-height: 140%;\n",
        "    font-size: 125%;\n",
        "    font-weight: 400;\n",
        "    width:600px;\n",
        "    margin-left:auto;\n",
        "    margin-right:auto;\n",
        "}\n",
        "\n",
        "\n",
        "/* Formatting for header cells */\n",
        ".text_cell_render h1 {\n",
        "    font-family: 'Nixie One', serif;\n",
        "    font-style:regular;\n",
        "    font-weight: 400;    \n",
        "    font-size: 45pt;\n",
        "    line-height: 100%;\n",
        "    color: rgb(0,51,102);\n",
        "    margin-bottom: 0.5em;\n",
        "    margin-top: 0.5em;\n",
        "    display: block;\n",
        "}\t\n",
        ".text_cell_render h2 {\n",
        "    font-family: 'Nixie One', serif;\n",
        "    font-weight: 400;\n",
        "    font-size: 30pt;\n",
        "    line-height: 100%;\n",
        "    color: rgb(0,51,102);\n",
        "    margin-bottom: 0.1em;\n",
        "    margin-top: 0.3em;\n",
        "    display: block;\n",
        "}\t\n",
        "\n",
        ".text_cell_render h3 {\n",
        "    font-family: 'Nixie One', serif;\n",
        "    margin-top:16px;\n",
        "\tfont-size: 22pt;\n",
        "    font-weight: 600;\n",
        "    margin-bottom: 3px;\n",
        "    font-style: regular;\n",
        "    color: rgb(102,102,0);\n",
        "}\n",
        "\n",
        ".text_cell_render h4 {    /*Use this for captions*/\n",
        "    font-family: 'Nixie One', serif;\n",
        "    font-size: 14pt;\n",
        "    text-align: center;\n",
        "    margin-top: 0em;\n",
        "    margin-bottom: 2em;\n",
        "    font-style: regular;\n",
        "}\n",
        "\n",
        ".text_cell_render h5 {  /*Use this for small titles*/\n",
        "    font-family: 'Nixie One', sans-serif;\n",
        "    font-weight: 400;\n",
        "    font-size: 16pt;\n",
        "    color: rgb(163,0,0);\n",
        "    font-style: italic;\n",
        "    margin-bottom: .1em;\n",
        "    margin-top: 0.8em;\n",
        "    display: block;\n",
        "}\n",
        "\n",
        ".text_cell_render h6 { /*use this for copyright note*/\n",
        "    font-family: 'PT Mono', sans-serif;\n",
        "    font-weight: 300;\n",
        "    font-size: 9pt;\n",
        "    line-height: 100%;\n",
        "    color: grey;\n",
        "    margin-bottom: 1px;\n",
        "    margin-top: 1px;\n",
        "}\n",
        "\n",
        ".CodeMirror{\n",
        "        font-family: \"PT Mono\";\n",
        "        font-size: 90%;\n",
        "}\n",
        "\n",
        "</style>\n",
        "<script>\n",
        "    MathJax.Hub.Config({\n",
        "                        TeX: {\n",
        "                           extensions: [\"AMSmath.js\"],\n",
        "                           equationNumbers: { autoNumber: \"AMS\", useLabelIds: true}\n",
        "                           },\n",
        "                tex2jax: {\n",
        "                    inlineMath: [ ['$','$'], [\"\\\\(\",\"\\\\)\"] ],\n",
        "                    displayMath: [ ['$$','$$'], [\"\\\\[\",\"\\\\]\"] ]\n",
        "                },\n",
        "                displayAlign: 'center', // Change this to 'center' to center equations.\n",
        "                \"HTML-CSS\": {\n",
        "                    styles: {'.MathJax_Display': {\"margin\": 4}}\n",
        "                }\n",
        "        });\n",
        "</script>"
       ],
       "metadata": {},
       "output_type": "display_data",
       "text": [
        "<IPython.core.display.HTML at 0x77dd0f0>"
       ]
      }
     ],
     "prompt_number": 1
    },
    {
     "cell_type": "heading",
     "level": 1,
     "metadata": {},
     "source": [
      "Ejercicios 4"
     ]
    },
    {
     "cell_type": "code",
     "collapsed": false,
     "input": [
      "print \"Hola RySi 2014\""
     ],
     "language": "python",
     "metadata": {},
     "outputs": [
      {
       "output_type": "stream",
       "stream": "stdout",
       "text": [
        "Hola RySi 2014\n"
       ]
      }
     ],
     "prompt_number": 2
    },
    {
     "cell_type": "code",
     "collapsed": false,
     "input": [
      "a = 1"
     ],
     "language": "python",
     "metadata": {},
     "outputs": [],
     "prompt_number": 3
    },
    {
     "cell_type": "code",
     "collapsed": false,
     "input": [
      "a"
     ],
     "language": "python",
     "metadata": {},
     "outputs": [
      {
       "metadata": {},
       "output_type": "pyout",
       "prompt_number": 4,
       "text": [
        "1"
       ]
      }
     ],
     "prompt_number": 4
    },
    {
     "cell_type": "code",
     "collapsed": false,
     "input": [
      "from numpy.random import randn\n",
      "data = {i : randn() for i in range(7)}"
     ],
     "language": "python",
     "metadata": {},
     "outputs": [],
     "prompt_number": 5
    },
    {
     "cell_type": "code",
     "collapsed": false,
     "input": [
      "data"
     ],
     "language": "python",
     "metadata": {},
     "outputs": [
      {
       "metadata": {},
       "output_type": "pyout",
       "prompt_number": 6,
       "text": [
        "{0: 0.9005177132890431,\n",
        " 1: -1.255315338741972,\n",
        " 2: -1.1540155299942823,\n",
        " 3: -0.8072215777440049,\n",
        " 4: 0.7960525575579545,\n",
        " 5: -0.04883364620529393,\n",
        " 6: 0.5699620313329291}"
       ]
      }
     ],
     "prompt_number": 6
    },
    {
     "cell_type": "code",
     "collapsed": false,
     "input": [
      ">>> from numpy.random import randn\n",
      ">>> data = {i : randn() for i in range(7)}\n",
      ">>> print data"
     ],
     "language": "python",
     "metadata": {},
     "outputs": [
      {
       "output_type": "stream",
       "stream": "stdout",
       "text": [
        "{0: -0.41654590188253915, 1: 0.6694437178611005, 2: 0.6009421513587586, 3: -2.0691525946354923, 4: 1.1158082201967403, 5: -0.016555462823750474, 6: 0.5435722554795441}\n"
       ]
      }
     ],
     "prompt_number": 7
    },
    {
     "cell_type": "heading",
     "level": 4,
     "metadata": {},
     "source": [
      "Completado por < TAB >"
     ]
    },
    {
     "cell_type": "code",
     "collapsed": false,
     "input": [
      "Facundo = 1\n",
      "Facultad = 8"
     ],
     "language": "python",
     "metadata": {},
     "outputs": [],
     "prompt_number": 8
    },
    {
     "cell_type": "code",
     "collapsed": false,
     "input": [
      "Fa = 4"
     ],
     "language": "python",
     "metadata": {},
     "outputs": [],
     "prompt_number": 9
    },
    {
     "cell_type": "code",
     "collapsed": false,
     "input": [
      "# Tab\n",
      "Fa"
     ],
     "language": "python",
     "metadata": {},
     "outputs": []
    },
    {
     "cell_type": "code",
     "collapsed": false,
     "input": [
      "lista = [1, 2, 3, 4, 5]"
     ],
     "language": "python",
     "metadata": {},
     "outputs": [],
     "prompt_number": 10
    },
    {
     "cell_type": "code",
     "collapsed": false,
     "input": [
      "# Tab\n",
      "lista."
     ],
     "language": "python",
     "metadata": {},
     "outputs": []
    },
    {
     "cell_type": "code",
     "collapsed": false,
     "input": [
      "import datetime"
     ],
     "language": "python",
     "metadata": {},
     "outputs": [],
     "prompt_number": 11
    },
    {
     "cell_type": "code",
     "collapsed": false,
     "input": [
      "# Tab\n",
      "datetime."
     ],
     "language": "python",
     "metadata": {},
     "outputs": []
    },
    {
     "cell_type": "code",
     "collapsed": false,
     "input": [
      "# Tab\n",
      "datetime._"
     ],
     "language": "python",
     "metadata": {},
     "outputs": []
    },
    {
     "cell_type": "code",
     "collapsed": false,
     "input": [
      "!dir"
     ],
     "language": "python",
     "metadata": {},
     "outputs": [
      {
       "output_type": "stream",
       "stream": "stdout",
       "text": [
        " El volumen de la unidad C no tiene etiqueta.\n",
        " El n\u00a3mero de serie del volumen es: 7407-B029\n",
        "\n",
        " Directorio de C:\\Users\\Gio\\Documents\\IPython Notebooks\\lania.ipython\\Dia2\\notebooks\n",
        "\n",
        "14/11/2014  12:00 a.m.    <DIR>          .\n",
        "14/11/2014  12:00 a.m.    <DIR>          ..\n",
        "14/11/2014  12:01 a.m.    <DIR>          .ipynb_checkpoints\n",
        "12/11/2014  10:35 p.m.                75 hola_clase.py\n",
        "12/11/2014  10:33 p.m.                77 hola_clase_espa.py\n",
        "08/11/2014  10:16 a.m.            11,675 Lib01_Esenciales_Python.ipynb\n",
        "08/11/2014  10:47 a.m.            16,629 Lib02_Esenciales_DataStructures.ipynb\n",
        "08/11/2014  11:45 a.m.            19,094 Lib03_Esenciales_DataStructures.ipynb\n",
        "10/11/2014  09:52 p.m.            39,044 Lib04_Esenciales_TextFiles.ipynb\n",
        "10/11/2014  09:55 p.m.            50,856 Lib05_Ejercicios01.ipynb\n",
        "12/11/2014  08:12 p.m.            75,965 Lib05_Marin_Garcia.ipynb\n",
        "12/11/2014  09:51 p.m.            27,391 Lib06_Ejercicios02.ipynb\n",
        "12/11/2014  10:18 p.m.            25,904 Lib06_Marin_Garcia.ipynb\n",
        "01/11/2014  11:38 a.m.           114,758 Lib07_Ejercicios03.ipynb\n",
        "13/11/2014  11:59 p.m.            78,166 Lib07_Marin_Garcia.ipynb\n",
        "01/11/2014  11:38 a.m.            44,576 Lib08_Ejercicios04.ipynb\n",
        "14/11/2014  12:20 a.m.            10,909 Lib08_Marin_Garcia.ipynb\n",
        "01/11/2014  11:38 a.m.            81,495 Lib09_ProcesandoDatos01.ipynb\n",
        "01/11/2014  11:38 a.m.            28,021 Lib10_GraficandoDatos.ipynb\n",
        "01/11/2014  11:38 a.m.         1,676,419 Lib11_ArchivosCSV.ipynb\n",
        "01/11/2014  11:38 a.m.           148,399 Lib12_pandas.ipynb\n",
        "13/11/2014  11:47 p.m.               614 mimodulo.py\n",
        "13/11/2014  11:47 p.m.             1,115 mimodulo.pyc\n",
        "              20 archivos      2,451,182 bytes\n",
        "               3 dirs  25,528,537,088 bytes libres\n"
       ]
      }
     ],
     "prompt_number": 12
    },
    {
     "cell_type": "code",
     "collapsed": false,
     "input": [
      "cd .ipynb_checkpoints"
     ],
     "language": "python",
     "metadata": {},
     "outputs": [
      {
       "output_type": "stream",
       "stream": "stdout",
       "text": [
        "C:\\Users\\Gio\\Documents\\IPython Notebooks\\lania.ipython\\Dia2\\notebooks\\.ipynb_checkpoints\n"
       ]
      }
     ],
     "prompt_number": 27
    },
    {
     "cell_type": "code",
     "collapsed": false,
     "input": [
      "!dir"
     ],
     "language": "python",
     "metadata": {},
     "outputs": [
      {
       "output_type": "stream",
       "stream": "stdout",
       "text": [
        " El volumen de la unidad C no tiene etiqueta.\n",
        " El n\u00a3mero de serie del volumen es: 7407-B029\n",
        "\n",
        " Directorio de C:\\Users\\Gio\\Documents\\IPython Notebooks\\lania.ipython\\Dia2\\notebooks\\.ipynb_checkpoints\n",
        "\n",
        "14/11/2014  12:01 a.m.    <DIR>          .\n",
        "14/11/2014  12:01 a.m.    <DIR>          ..\n",
        "08/11/2014  10:16 a.m.            11,675 Lib01_Esenciales_Python-checkpoint.ipynb\n",
        "08/11/2014  10:47 a.m.            16,629 Lib02_Esenciales_DataStructures-checkpoint.ipynb\n",
        "08/11/2014  11:45 a.m.            19,094 Lib03_Esenciales_DataStructures-checkpoint.ipynb\n",
        "10/11/2014  09:52 p.m.            39,044 Lib04_Esenciales_TextFiles-checkpoint.ipynb\n",
        "10/11/2014  09:55 p.m.            50,856 Lib05_Ejercicios01-checkpoint.ipynb\n",
        "12/11/2014  08:12 p.m.            75,965 Lib05_Marin_Garcia-checkpoint.ipynb\n",
        "12/11/2014  09:51 p.m.            27,391 Lib06_Ejercicios02-checkpoint.ipynb\n",
        "12/11/2014  10:18 p.m.            25,904 Lib06_Marin_Garcia-checkpoint.ipynb\n",
        "13/11/2014  11:59 p.m.            78,166 Lib07_Marin_Garcia-checkpoint.ipynb\n",
        "14/11/2014  12:18 a.m.            10,308 Lib08_Marin_Garcia-checkpoint.ipynb\n",
        "              10 archivos        355,032 bytes\n",
        "               2 dirs  25,528,721,408 bytes libres\n"
       ]
      }
     ],
     "prompt_number": 28
    },
    {
     "cell_type": "code",
     "collapsed": false,
     "input": [
      "import os\n",
      "os.getcwd()\n",
      "os.chdir(\"..\")"
     ],
     "language": "python",
     "metadata": {},
     "outputs": []
    },
    {
     "cell_type": "heading",
     "level": 4,
     "metadata": {},
     "source": [
      "Introspecci\u00f3n de objetos"
     ]
    },
    {
     "cell_type": "code",
     "collapsed": false,
     "input": [
      "lista?"
     ],
     "language": "python",
     "metadata": {},
     "outputs": [],
     "prompt_number": 29
    },
    {
     "cell_type": "code",
     "collapsed": false,
     "input": [
      "def suma(a, b):\n",
      "    \"\"\"\n",
      "    Demo de una funci\u00f3n que suma cosas...\n",
      "    \"\"\"\n",
      "    return a + b"
     ],
     "language": "python",
     "metadata": {},
     "outputs": [],
     "prompt_number": 30
    },
    {
     "cell_type": "code",
     "collapsed": false,
     "input": [
      "suma?"
     ],
     "language": "python",
     "metadata": {},
     "outputs": [],
     "prompt_number": 31
    },
    {
     "cell_type": "code",
     "collapsed": false,
     "input": [
      "suma??"
     ],
     "language": "python",
     "metadata": {},
     "outputs": [],
     "prompt_number": 32
    },
    {
     "cell_type": "code",
     "collapsed": false,
     "input": [
      "import numpy as np\n",
      "np.*lin*?"
     ],
     "language": "python",
     "metadata": {},
     "outputs": [],
     "prompt_number": 34
    },
    {
     "cell_type": "heading",
     "level": 4,
     "metadata": {},
     "source": [
      "%run, Forest... %run"
     ]
    },
    {
     "cell_type": "code",
     "collapsed": false,
     "input": [
      "!mkdir temporal"
     ],
     "language": "python",
     "metadata": {},
     "outputs": []
    },
    {
     "cell_type": "code",
     "collapsed": false,
     "input": [
      "import os\n",
      "os.getcwd()\n",
      "os.chdir(\"temporal\")"
     ],
     "language": "python",
     "metadata": {},
     "outputs": [],
     "prompt_number": 42
    },
    {
     "cell_type": "code",
     "collapsed": false,
     "input": [
      "!dir"
     ],
     "language": "python",
     "metadata": {},
     "outputs": [
      {
       "output_type": "stream",
       "stream": "stdout",
       "text": [
        " El volumen de la unidad C no tiene etiqueta.\n",
        " El n\u00a3mero de serie del volumen es: 7407-B029\n",
        "\n",
        " Directorio de C:\\Users\\Gio\\Documents\\IPython Notebooks\\lania.ipython\\Dia2\\notebooks\\temporal\n",
        "\n",
        "14/11/2014  12:34 a.m.    <DIR>          .\n",
        "14/11/2014  12:34 a.m.    <DIR>          ..\n",
        "               0 archivos              0 bytes\n",
        "               2 dirs  25,528,348,672 bytes libres\n"
       ]
      }
     ],
     "prompt_number": 43
    },
    {
     "cell_type": "code",
     "collapsed": false,
     "input": [
      "%%file mi_programa.py\n",
      "# archivo vacio"
     ],
     "language": "python",
     "metadata": {},
     "outputs": [
      {
       "output_type": "stream",
       "stream": "stdout",
       "text": [
        "Writing mi_programa.py\n"
       ]
      }
     ],
     "prompt_number": 47
    },
    {
     "cell_type": "code",
     "collapsed": false,
     "input": [
      "!dir"
     ],
     "language": "python",
     "metadata": {},
     "outputs": [
      {
       "output_type": "stream",
       "stream": "stdout",
       "text": [
        " El volumen de la unidad C no tiene etiqueta.\n",
        " El n\u00a3mero de serie del volumen es: 7407-B029\n",
        "\n",
        " Directorio de C:\\Users\\Gio\\Documents\\IPython Notebooks\\lania.ipython\\Dia2\\notebooks\\temporal\n",
        "\n",
        "14/11/2014  12:44 a.m.    <DIR>          .\n",
        "14/11/2014  12:44 a.m.    <DIR>          ..\n",
        "14/11/2014  12:44 a.m.                15 mi_programa.py\n",
        "               1 archivos             15 bytes\n",
        "               2 dirs  25,532,616,704 bytes libres\n"
       ]
      }
     ],
     "prompt_number": 48
    },
    {
     "cell_type": "code",
     "collapsed": false,
     "input": [
      "%%writefile mi_programa.py\n",
      "def mi_funcion(x, y):\n",
      "    \"\"\"\n",
      "    Demo\n",
      "    \"\"\"\n",
      "    return x / y\n",
      "\n",
      "x = 4\n",
      "y = 2\n",
      "\n",
      "resultado = mi_funcion(x, y)"
     ],
     "language": "python",
     "metadata": {},
     "outputs": [
      {
       "output_type": "stream",
       "stream": "stdout",
       "text": [
        "Overwriting mi_programa.py\n"
       ]
      }
     ],
     "prompt_number": 49
    },
    {
     "cell_type": "code",
     "collapsed": false,
     "input": [
      "%run mi_programa.py"
     ],
     "language": "python",
     "metadata": {},
     "outputs": [],
     "prompt_number": 52
    },
    {
     "cell_type": "code",
     "collapsed": false,
     "input": [
      "resultado"
     ],
     "language": "python",
     "metadata": {},
     "outputs": [
      {
       "metadata": {},
       "output_type": "pyout",
       "prompt_number": 53,
       "text": [
        "2"
       ]
      }
     ],
     "prompt_number": 53
    },
    {
     "cell_type": "heading",
     "level": 4,
     "metadata": {},
     "source": [
      "Excepciones y Tracebacks"
     ]
    },
    {
     "cell_type": "code",
     "collapsed": false,
     "input": [
      "%%writefile mi_programa.py\n",
      "def mi_funcion(x, y):\n",
      "    \"\"\"\n",
      "    Demo\n",
      "    \"\"\"\n",
      "    return x / y\n",
      "\n",
      "x = 4\n",
      "y = 0\n",
      "\n",
      "resultado = mi_funcion(x, y)"
     ],
     "language": "python",
     "metadata": {},
     "outputs": [
      {
       "output_type": "stream",
       "stream": "stdout",
       "text": [
        "Overwriting mi_programa.py\n"
       ]
      }
     ],
     "prompt_number": 54
    },
    {
     "cell_type": "code",
     "collapsed": false,
     "input": [
      "%run mi_programa.py"
     ],
     "language": "python",
     "metadata": {},
     "outputs": [
      {
       "ename": "ZeroDivisionError",
       "evalue": "integer division or modulo by zero",
       "output_type": "pyerr",
       "traceback": [
        "\u001b[1;31m---------------------------------------------------------------------------\u001b[0m\n\u001b[1;31mZeroDivisionError\u001b[0m                         Traceback (most recent call last)",
        "\u001b[1;32mC:\\Users\\Gio\\Documents\\IPython Notebooks\\lania.ipython\\Dia2\\notebooks\\temporal\\mi_programa.py\u001b[0m in \u001b[0;36m<module>\u001b[1;34m()\u001b[0m\n\u001b[0;32m      8\u001b[0m \u001b[0my\u001b[0m \u001b[1;33m=\u001b[0m \u001b[1;36m0\u001b[0m\u001b[1;33m\u001b[0m\u001b[0m\n\u001b[0;32m      9\u001b[0m \u001b[1;33m\u001b[0m\u001b[0m\n\u001b[1;32m---> 10\u001b[1;33m \u001b[0mresultado\u001b[0m \u001b[1;33m=\u001b[0m \u001b[0mmi_funcion\u001b[0m\u001b[1;33m(\u001b[0m\u001b[0mx\u001b[0m\u001b[1;33m,\u001b[0m \u001b[0my\u001b[0m\u001b[1;33m)\u001b[0m\u001b[1;33m\u001b[0m\u001b[0m\n\u001b[0m",
        "\u001b[1;32mC:\\Users\\Gio\\Documents\\IPython Notebooks\\lania.ipython\\Dia2\\notebooks\\temporal\\mi_programa.py\u001b[0m in \u001b[0;36mmi_funcion\u001b[1;34m(x, y)\u001b[0m\n\u001b[0;32m      3\u001b[0m     \u001b[0mDemo\u001b[0m\u001b[1;33m\u001b[0m\u001b[0m\n\u001b[0;32m      4\u001b[0m     \"\"\"\n\u001b[1;32m----> 5\u001b[1;33m     \u001b[1;32mreturn\u001b[0m \u001b[0mx\u001b[0m \u001b[1;33m/\u001b[0m \u001b[0my\u001b[0m\u001b[1;33m\u001b[0m\u001b[0m\n\u001b[0m\u001b[0;32m      6\u001b[0m \u001b[1;33m\u001b[0m\u001b[0m\n\u001b[0;32m      7\u001b[0m \u001b[0mx\u001b[0m \u001b[1;33m=\u001b[0m \u001b[1;36m4\u001b[0m\u001b[1;33m\u001b[0m\u001b[0m\n",
        "\u001b[1;31mZeroDivisionError\u001b[0m: integer division or modulo by zero"
       ]
      }
     ],
     "prompt_number": 55
    },
    {
     "cell_type": "heading",
     "level": 4,
     "metadata": {},
     "source": [
      "\"It a kind of Magic...\""
     ]
    },
    {
     "cell_type": "code",
     "collapsed": false,
     "input": [
      "%magic"
     ],
     "language": "python",
     "metadata": {},
     "outputs": [],
     "prompt_number": 56
    },
    {
     "cell_type": "code",
     "collapsed": false,
     "input": [
      "%lsmagic"
     ],
     "language": "python",
     "metadata": {},
     "outputs": [
      {
       "json": [
        "{\"cell\": {\"prun\": \"ExecutionMagics\", \"file\": \"Other\", \"!\": \"OSMagics\", \"capture\": \"ExecutionMagics\", \"timeit\": \"ExecutionMagics\", \"script\": \"ScriptMagics\", \"pypy\": \"Other\", \"system\": \"OSMagics\", \"perl\": \"Other\", \"HTML\": \"Other\", \"bash\": \"Other\", \"python\": \"Other\", \"SVG\": \"Other\", \"javascript\": \"DisplayMagics\", \"writefile\": \"OSMagics\", \"ruby\": \"Other\", \"python3\": \"Other\", \"python2\": \"Other\", \"latex\": \"DisplayMagics\", \"sx\": \"OSMagics\", \"svg\": \"DisplayMagics\", \"cmd\": \"Other\", \"html\": \"DisplayMagics\", \"sh\": \"Other\", \"time\": \"ExecutionMagics\", \"debug\": \"ExecutionMagics\", \"powershell\": \"Other\"}, \"line\": {\"psource\": \"NamespaceMagics\", \"logstart\": \"LoggingMagics\", \"popd\": \"OSMagics\", \"loadpy\": \"CodeMagics\", \"install_ext\": \"ExtensionMagics\", \"colors\": \"BasicMagics\", \"who_ls\": \"NamespaceMagics\", \"install_profiles\": \"DeprecatedMagics\", \"ddir\": \"Other\", \"pprint\": \"BasicMagics\", \"ldir\": \"Other\", \"ls\": \"Other\", \"save\": \"CodeMagics\", \"tb\": \"ExecutionMagics\", \"cls\": \"KernelMagics\", \"pylab\": \"PylabMagics\", \"killbgscripts\": \"ScriptMagics\", \"quickref\": \"BasicMagics\", \"echo\": \"Other\", \"magic\": \"BasicMagics\", \"dhist\": \"OSMagics\", \"edit\": \"KernelMagics\", \"logstop\": \"LoggingMagics\", \"gui\": \"BasicMagics\", \"alias_magic\": \"BasicMagics\", \"debug\": \"ExecutionMagics\", \"page\": \"BasicMagics\", \"logstate\": \"LoggingMagics\", \"ed\": \"Other\", \"pushd\": \"OSMagics\", \"timeit\": \"ExecutionMagics\", \"rehashx\": \"OSMagics\", \"hist\": \"Other\", \"ren\": \"Other\", \"qtconsole\": \"KernelMagics\", \"dirs\": \"OSMagics\", \"run\": \"ExecutionMagics\", \"reset_selective\": \"NamespaceMagics\", \"pinfo2\": \"NamespaceMagics\", \"matplotlib\": \"PylabMagics\", \"automagic\": \"AutoMagics\", \"doctest_mode\": \"KernelMagics\", \"logoff\": \"LoggingMagics\", \"reload_ext\": \"ExtensionMagics\", \"pdb\": \"ExecutionMagics\", \"load\": \"CodeMagics\", \"lsmagic\": \"BasicMagics\", \"autosave\": \"KernelMagics\", \"cd\": \"OSMagics\", \"pastebin\": \"CodeMagics\", \"prun\": \"ExecutionMagics\", \"autocall\": \"AutoMagics\", \"bookmark\": \"OSMagics\", \"connect_info\": \"KernelMagics\", \"mkdir\": \"Other\", \"system\": \"OSMagics\", \"whos\": \"NamespaceMagics\", \"rmdir\": \"Other\", \"unload_ext\": \"ExtensionMagics\", \"store\": \"StoreMagics\", \"more\": \"KernelMagics\", \"pdef\": \"NamespaceMagics\", \"precision\": \"BasicMagics\", \"pinfo\": \"NamespaceMagics\", \"pwd\": \"OSMagics\", \"psearch\": \"NamespaceMagics\", \"copy\": \"Other\", \"reset\": \"NamespaceMagics\", \"recall\": \"HistoryMagics\", \"xdel\": \"NamespaceMagics\", \"xmode\": \"BasicMagics\", \"rerun\": \"HistoryMagics\", \"logon\": \"LoggingMagics\", \"history\": \"HistoryMagics\", \"pycat\": \"OSMagics\", \"unalias\": \"OSMagics\", \"install_default_config\": \"DeprecatedMagics\", \"env\": \"OSMagics\", \"load_ext\": \"ExtensionMagics\", \"config\": \"ConfigMagics\", \"profile\": \"BasicMagics\", \"pfile\": \"NamespaceMagics\", \"less\": \"KernelMagics\", \"who\": \"NamespaceMagics\", \"notebook\": \"BasicMagics\", \"sx\": \"OSMagics\", \"macro\": \"ExecutionMagics\", \"clear\": \"KernelMagics\", \"alias\": \"OSMagics\", \"time\": \"ExecutionMagics\", \"sc\": \"OSMagics\", \"rep\": \"Other\", \"pdoc\": \"NamespaceMagics\"}}"
       ],
       "metadata": {},
       "output_type": "pyout",
       "prompt_number": 57,
       "text": [
        "Available line magics:\n",
        "%alias  %alias_magic  %autocall  %automagic  %autosave  %bookmark  %cd  %clear  %cls  %colors  %config  %connect_info  %copy  %ddir  %debug  %dhist  %dirs  %doctest_mode  %echo  %ed  %edit  %env  %gui  %hist  %history  %install_default_config  %install_ext  %install_profiles  %killbgscripts  %ldir  %less  %load  %load_ext  %loadpy  %logoff  %logon  %logstart  %logstate  %logstop  %ls  %lsmagic  %macro  %magic  %matplotlib  %mkdir  %more  %notebook  %page  %pastebin  %pdb  %pdef  %pdoc  %pfile  %pinfo  %pinfo2  %popd  %pprint  %precision  %profile  %prun  %psearch  %psource  %pushd  %pwd  %pycat  %pylab  %qtconsole  %quickref  %recall  %rehashx  %reload_ext  %ren  %rep  %rerun  %reset  %reset_selective  %rmdir  %run  %save  %sc  %store  %sx  %system  %tb  %time  %timeit  %unalias  %unload_ext  %who  %who_ls  %whos  %xdel  %xmode\n",
        "\n",
        "Available cell magics:\n",
        "%%!  %%HTML  %%SVG  %%bash  %%capture  %%cmd  %%debug  %%file  %%html  %%javascript  %%latex  %%perl  %%powershell  %%prun  %%pypy  %%python  %%python2  %%python3  %%ruby  %%script  %%sh  %%svg  %%sx  %%system  %%time  %%timeit  %%writefile\n",
        "\n",
        "Automagic is ON, % prefix IS NOT needed for line magics."
       ]
      }
     ],
     "prompt_number": 57
    },
    {
     "cell_type": "code",
     "collapsed": false,
     "input": [
      "%quickref"
     ],
     "language": "python",
     "metadata": {},
     "outputs": [],
     "prompt_number": 58
    },
    {
     "cell_type": "code",
     "collapsed": false,
     "input": [
      "quickref"
     ],
     "language": "python",
     "metadata": {},
     "outputs": [],
     "prompt_number": 59
    },
    {
     "cell_type": "code",
     "collapsed": false,
     "input": [
      "%timeit?"
     ],
     "language": "python",
     "metadata": {},
     "outputs": [],
     "prompt_number": 60
    },
    {
     "cell_type": "code",
     "collapsed": false,
     "input": [
      "m = np.random.randn(100, 100)"
     ],
     "language": "python",
     "metadata": {},
     "outputs": [],
     "prompt_number": 61
    },
    {
     "cell_type": "code",
     "collapsed": false,
     "input": [
      "m"
     ],
     "language": "python",
     "metadata": {},
     "outputs": [
      {
       "metadata": {},
       "output_type": "pyout",
       "prompt_number": 62,
       "text": [
        "array([[-0.37898875,  0.82327476,  0.27853464, ..., -1.9540285 ,\n",
        "        -0.08784954, -0.46682412],\n",
        "       [ 1.85025459,  1.03145632, -1.3154727 , ..., -0.70074237,\n",
        "        -1.37801996, -1.41650545],\n",
        "       [-0.2482062 , -0.01072348, -0.48052129, ...,  1.24766373,\n",
        "         0.02008274,  0.84659696],\n",
        "       ..., \n",
        "       [ 2.06562694,  0.92441455,  1.71305794, ..., -1.32272717,\n",
        "         0.01698506, -1.64512008],\n",
        "       [-0.88608947, -0.02178023, -1.12147424, ...,  0.09291092,\n",
        "        -1.14171244,  1.35461695],\n",
        "       [-0.81487313,  0.26792154,  0.44292842, ...,  0.05793721,\n",
        "        -0.61284803,  1.06349531]])"
       ]
      }
     ],
     "prompt_number": 62
    },
    {
     "cell_type": "code",
     "collapsed": false,
     "input": [
      "%timeit np.dot(m, m)"
     ],
     "language": "python",
     "metadata": {},
     "outputs": [
      {
       "output_type": "stream",
       "stream": "stdout",
       "text": [
        "1000 loops, best of 3: 197 \u00b5s per loop\n"
       ]
      }
     ],
     "prompt_number": 63
    },
    {
     "cell_type": "code",
     "collapsed": false,
     "input": [
      "%timeit -n 100 -r 10 np.dot(m, m)"
     ],
     "language": "python",
     "metadata": {},
     "outputs": [
      {
       "output_type": "stream",
       "stream": "stdout",
       "text": [
        "100 loops, best of 10: 197 \u00b5s per loop\n"
       ]
      }
     ],
     "prompt_number": 64
    },
    {
     "cell_type": "code",
     "collapsed": false,
     "input": [
      "%who"
     ],
     "language": "python",
     "metadata": {},
     "outputs": [
      {
       "output_type": "stream",
       "stream": "stdout",
       "text": [
        "Audio\t CustomPlot\t Fa\t Facultad\t Facundo\t FileLinks\t HTML\t Image\t Math\t \n",
        "Video\t YouTubeVideo\t a\t clear_output\t data\t datetime\t display\t figsize\t html_link\t \n",
        "lista\t m\t mi_funcion\t nbviewer\t np\t os\t pd\t plot_audio\t plt\t \n",
        "prefix\t randn\t resultado\t simple_link\t suma\t website\t x\t y\t \n"
       ]
      }
     ],
     "prompt_number": 65
    },
    {
     "cell_type": "code",
     "collapsed": false,
     "input": [
      "%who_ls"
     ],
     "language": "python",
     "metadata": {},
     "outputs": [
      {
       "metadata": {},
       "output_type": "pyout",
       "prompt_number": 66,
       "text": [
        "['Audio',\n",
        " 'CustomPlot',\n",
        " 'Fa',\n",
        " 'Facultad',\n",
        " 'Facundo',\n",
        " 'FileLinks',\n",
        " 'HTML',\n",
        " 'Image',\n",
        " 'Math',\n",
        " 'Video',\n",
        " 'YouTubeVideo',\n",
        " 'a',\n",
        " 'clear_output',\n",
        " 'data',\n",
        " 'datetime',\n",
        " 'display',\n",
        " 'figsize',\n",
        " 'html_link',\n",
        " 'lista',\n",
        " 'm',\n",
        " 'mi_funcion',\n",
        " 'nbviewer',\n",
        " 'np',\n",
        " 'os',\n",
        " 'pd',\n",
        " 'plot_audio',\n",
        " 'plt',\n",
        " 'prefix',\n",
        " 'randn',\n",
        " 'resultado',\n",
        " 'simple_link',\n",
        " 'suma',\n",
        " 'website',\n",
        " 'x',\n",
        " 'y']"
       ]
      }
     ],
     "prompt_number": 66
    },
    {
     "cell_type": "code",
     "collapsed": false,
     "input": [
      "%whos"
     ],
     "language": "python",
     "metadata": {},
     "outputs": [
      {
       "output_type": "stream",
       "stream": "stdout",
       "text": [
        "Variable       Type                          Data/Info\n",
        "------------------------------------------------------\n",
        "Audio          type                          <class 'IPython.lib.display.Audio'>\n",
        "CustomPlot     function                      <function CustomPlot at 0x07971EF0>\n",
        "Fa             int                           4\n",
        "Facultad       int                           8\n",
        "Facundo        int                           1\n",
        "FileLinks      type                          <class 'IPython.lib.display.FileLinks'>\n",
        "HTML           type                          <class 'IPython.core.display.HTML'>\n",
        "Image          type                          <class 'IPython.core.display.Image'>\n",
        "Math           type                          <class 'IPython.core.display.Math'>\n",
        "Video          function                      <function Video at 0x07971E30>\n",
        "YouTubeVideo   type                          <class 'IPython.lib.display.YouTubeVideo'>\n",
        "a              int                           1\n",
        "clear_output   function                      <function clear_output at 0x01AB2B70>\n",
        "data           dict                          n=7\n",
        "datetime       module                        <module 'datetime' (built-in)>\n",
        "display        function                      <function display at 0x01AB24B0>\n",
        "figsize        function                      <function figsize at 0x027F6C70>\n",
        "html_link      function                      <function html_link at 0x07971D30>\n",
        "lista          list                          n=5\n",
        "m              ndarray                       100x100: 10000 elems, type `float64`, 80000 bytes\n",
        "mi_funcion     function                      <function mi_funcion at 0x07A5E8F0>\n",
        "nbviewer       function                      <function nbviewer at 0x07971DF0>\n",
        "np             module                        <module 'numpy' from 'C:\\<...>ages\\numpy\\__init__.pyc'>\n",
        "os             module                        <module 'os' from 'C:\\Use<...>Gio\\Anaconda\\lib\\os.pyc'>\n",
        "pd             module                        <module 'pandas' from 'C:<...>ges\\pandas\\__init__.pyc'>\n",
        "plot_audio     function                      <function plot_audio at 0x07971EB0>\n",
        "plt            module                        <module 'matplotlib.pyplo<...>s\\matplotlib\\pyplot.pyc'>\n",
        "prefix         function                      <function prefix at 0x07971CF0>\n",
        "randn          builtin_function_or_method    <built-in method randn of<...>ate object at 0x02F5FD70>\n",
        "resultado      int                           2\n",
        "simple_link    function                      <function simple_link at 0x07971D70>\n",
        "suma           function                      <function suma at 0x07A5E830>\n",
        "website        function                      <function website at 0x07971DB0>\n",
        "x              int                           4\n",
        "y              int                           0\n"
       ]
      }
     ],
     "prompt_number": 67
    },
    {
     "cell_type": "code",
     "collapsed": false,
     "input": [
      "%xdel resultado\n",
      "%who"
     ],
     "language": "python",
     "metadata": {},
     "outputs": [
      {
       "output_type": "stream",
       "stream": "stdout",
       "text": [
        "Audio\t CustomPlot\t Fa\t Facultad\t Facundo\t FileLinks\t HTML\t Image\t Math\t \n",
        "Video\t YouTubeVideo\t a\t clear_output\t data\t datetime\t display\t figsize\t html_link\t \n",
        "lista\t m\t mi_funcion\t nbviewer\t np\t os\t pd\t plot_audio\t plt\t \n",
        "prefix\t randn\t simple_link\t suma\t website\t x\t y\t \n"
       ]
      }
     ],
     "prompt_number": 68
    },
    {
     "cell_type": "code",
     "collapsed": false,
     "input": [
      "%reset"
     ],
     "language": "python",
     "metadata": {},
     "outputs": [
      {
       "name": "stdout",
       "output_type": "stream",
       "stream": "stdout",
       "text": [
        "Once deleted, variables cannot be recovered. Proceed (y/[n])? y\n"
       ]
      }
     ],
     "prompt_number": 69
    },
    {
     "cell_type": "code",
     "collapsed": false,
     "input": [
      "m"
     ],
     "language": "python",
     "metadata": {},
     "outputs": [
      {
       "ename": "NameError",
       "evalue": "name 'm' is not defined",
       "output_type": "pyerr",
       "traceback": [
        "\u001b[1;31m---------------------------------------------------------------------------\u001b[0m\n\u001b[1;31mNameError\u001b[0m                                 Traceback (most recent call last)",
        "\u001b[1;32m<ipython-input-70-69b64623f86d>\u001b[0m in \u001b[0;36m<module>\u001b[1;34m()\u001b[0m\n\u001b[1;32m----> 1\u001b[1;33m \u001b[0mm\u001b[0m\u001b[1;33m\u001b[0m\u001b[0m\n\u001b[0m",
        "\u001b[1;31mNameError\u001b[0m: name 'm' is not defined"
       ]
      }
     ],
     "prompt_number": 70
    },
    {
     "cell_type": "heading",
     "level": 4,
     "metadata": {},
     "source": [
      "Dos magics muy \u00fatiles"
     ]
    },
    {
     "cell_type": "code",
     "collapsed": false,
     "input": [
      "%qtconsole"
     ],
     "language": "python",
     "metadata": {},
     "outputs": [],
     "prompt_number": 71
    },
    {
     "cell_type": "code",
     "collapsed": false,
     "input": [
      "%matplotlib"
     ],
     "language": "python",
     "metadata": {},
     "outputs": [
      {
       "output_type": "stream",
       "stream": "stdout",
       "text": [
        "Using matplotlib backend: Qt4Agg\n"
       ]
      }
     ],
     "prompt_number": 72
    },
    {
     "cell_type": "heading",
     "level": 2,
     "metadata": {},
     "source": [
      "IPython b\u00e1sico (parte 2)"
     ]
    },
    {
     "cell_type": "heading",
     "level": 4,
     "metadata": {},
     "source": [
      "Haciendo uso de la historia..."
     ]
    },
    {
     "cell_type": "code",
     "collapsed": false,
     "input": [
      "2**4"
     ],
     "language": "python",
     "metadata": {},
     "outputs": [
      {
       "metadata": {},
       "output_type": "pyout",
       "prompt_number": 73,
       "text": [
        "16"
       ]
      }
     ],
     "prompt_number": 73
    },
    {
     "cell_type": "code",
     "collapsed": false,
     "input": [
      "_"
     ],
     "language": "python",
     "metadata": {},
     "outputs": [
      {
       "metadata": {},
       "output_type": "pyout",
       "prompt_number": 74,
       "text": [
        "16"
       ]
      }
     ],
     "prompt_number": 74
    },
    {
     "cell_type": "code",
     "collapsed": false,
     "input": [
      "foo = \"bar\"\n",
      "foo"
     ],
     "language": "python",
     "metadata": {},
     "outputs": [
      {
       "metadata": {},
       "output_type": "pyout",
       "prompt_number": 75,
       "text": [
        "'bar'"
       ]
      }
     ],
     "prompt_number": 75
    },
    {
     "cell_type": "code",
     "collapsed": false,
     "input": [
      "_i50"
     ],
     "language": "python",
     "metadata": {},
     "outputs": [
      {
       "ename": "NameError",
       "evalue": "name '_i50' is not defined",
       "output_type": "pyerr",
       "traceback": [
        "\u001b[1;31m---------------------------------------------------------------------------\u001b[0m\n\u001b[1;31mNameError\u001b[0m                                 Traceback (most recent call last)",
        "\u001b[1;32m<ipython-input-76-2503149a0ad7>\u001b[0m in \u001b[0;36m<module>\u001b[1;34m()\u001b[0m\n\u001b[1;32m----> 1\u001b[1;33m \u001b[0m_i50\u001b[0m\u001b[1;33m\u001b[0m\u001b[0m\n\u001b[0m",
        "\u001b[1;31mNameError\u001b[0m: name '_i50' is not defined"
       ]
      }
     ],
     "prompt_number": 76
    },
    {
     "cell_type": "code",
     "collapsed": false,
     "input": [
      "_50"
     ],
     "language": "python",
     "metadata": {},
     "outputs": [
      {
       "ename": "NameError",
       "evalue": "name '_50' is not defined",
       "output_type": "pyerr",
       "traceback": [
        "\u001b[1;31m---------------------------------------------------------------------------\u001b[0m\n\u001b[1;31mNameError\u001b[0m                                 Traceback (most recent call last)",
        "\u001b[1;32m<ipython-input-77-4ce25d5218b7>\u001b[0m in \u001b[0;36m<module>\u001b[1;34m()\u001b[0m\n\u001b[1;32m----> 1\u001b[1;33m \u001b[0m_50\u001b[0m\u001b[1;33m\u001b[0m\u001b[0m\n\u001b[0m",
        "\u001b[1;31mNameError\u001b[0m: name '_50' is not defined"
       ]
      }
     ],
     "prompt_number": 77
    },
    {
     "cell_type": "code",
     "collapsed": false,
     "input": [
      "foo = \"baz\"\n",
      "foo"
     ],
     "language": "python",
     "metadata": {},
     "outputs": [
      {
       "metadata": {},
       "output_type": "pyout",
       "prompt_number": 78,
       "text": [
        "'baz'"
       ]
      }
     ],
     "prompt_number": 78
    },
    {
     "cell_type": "code",
     "collapsed": false,
     "input": [
      "exec _i50"
     ],
     "language": "python",
     "metadata": {},
     "outputs": [
      {
       "ename": "NameError",
       "evalue": "name '_i50' is not defined",
       "output_type": "pyerr",
       "traceback": [
        "\u001b[1;31m---------------------------------------------------------------------------\u001b[0m\n\u001b[1;31mNameError\u001b[0m                                 Traceback (most recent call last)",
        "\u001b[1;32m<ipython-input-79-b4985ada30b7>\u001b[0m in \u001b[0;36m<module>\u001b[1;34m()\u001b[0m\n\u001b[1;32m----> 1\u001b[1;33m \u001b[1;32mexec\u001b[0m \u001b[0m_i50\u001b[0m\u001b[1;33m\u001b[0m\u001b[0m\n\u001b[0m",
        "\u001b[1;31mNameError\u001b[0m: name '_i50' is not defined"
       ]
      }
     ],
     "prompt_number": 79
    },
    {
     "cell_type": "code",
     "collapsed": false,
     "input": [
      "foo"
     ],
     "language": "python",
     "metadata": {},
     "outputs": [
      {
       "metadata": {},
       "output_type": "pyout",
       "prompt_number": 80,
       "text": [
        "'baz'"
       ]
      }
     ],
     "prompt_number": 80
    },
    {
     "cell_type": "heading",
     "level": 4,
     "metadata": {},
     "source": [
      "Interacci\u00f3n con el OS"
     ]
    },
    {
     "cell_type": "code",
     "collapsed": false,
     "input": [
      "pwd"
     ],
     "language": "python",
     "metadata": {},
     "outputs": [
      {
       "metadata": {},
       "output_type": "pyout",
       "prompt_number": 82,
       "text": [
        "u'C:\\\\Users\\\\Gio\\\\Documents\\\\IPython Notebooks\\\\lania.ipython\\\\Dia2\\\\notebooks\\\\temporal'"
       ]
      }
     ],
     "prompt_number": 82
    },
    {
     "cell_type": "code",
     "collapsed": false,
     "input": [
      "mes = !cal"
     ],
     "language": "python",
     "metadata": {},
     "outputs": [],
     "prompt_number": 83
    },
    {
     "cell_type": "code",
     "collapsed": false,
     "input": [
      "este_mes = mes[0]\n",
      "este_mes"
     ],
     "language": "python",
     "metadata": {},
     "outputs": [
      {
       "metadata": {},
       "output_type": "pyout",
       "prompt_number": 84,
       "text": [
        "'\"cal\" no se reconoce como un comando interno o externo,'"
       ]
      }
     ],
     "prompt_number": 84
    },
    {
     "cell_type": "code",
     "collapsed": false,
     "input": [
      "ipy_notebooks = '*.ipynb'"
     ],
     "language": "python",
     "metadata": {},
     "outputs": [],
     "prompt_number": 85
    },
    {
     "cell_type": "code",
     "collapsed": false,
     "input": [
      "import os\n",
      "os.getcwd()\n",
      "os.chdir(\"..\")"
     ],
     "language": "python",
     "metadata": {},
     "outputs": [],
     "prompt_number": 89
    },
    {
     "cell_type": "code",
     "collapsed": false,
     "input": [
      "!dir"
     ],
     "language": "python",
     "metadata": {},
     "outputs": [
      {
       "output_type": "stream",
       "stream": "stdout",
       "text": [
        " El volumen de la unidad C no tiene etiqueta.\n",
        " El n\u00a3mero de serie del volumen es: 7407-B029\n",
        "\n",
        " Directorio de C:\\Users\\Gio\\Documents\\IPython Notebooks\\lania.ipython\\Dia2\\notebooks\n",
        "\n",
        "14/11/2014  12:34 a.m.    <DIR>          .\n",
        "14/11/2014  12:34 a.m.    <DIR>          ..\n",
        "14/11/2014  12:01 a.m.    <DIR>          .ipynb_checkpoints\n",
        "12/11/2014  10:35 p.m.                75 hola_clase.py\n",
        "12/11/2014  10:33 p.m.                77 hola_clase_espa.py\n",
        "08/11/2014  10:16 a.m.            11,675 Lib01_Esenciales_Python.ipynb\n",
        "08/11/2014  10:47 a.m.            16,629 Lib02_Esenciales_DataStructures.ipynb\n",
        "08/11/2014  11:45 a.m.            19,094 Lib03_Esenciales_DataStructures.ipynb\n",
        "10/11/2014  09:52 p.m.            39,044 Lib04_Esenciales_TextFiles.ipynb\n",
        "10/11/2014  09:55 p.m.            50,856 Lib05_Ejercicios01.ipynb\n",
        "12/11/2014  08:12 p.m.            75,965 Lib05_Marin_Garcia.ipynb\n",
        "12/11/2014  09:51 p.m.            27,391 Lib06_Ejercicios02.ipynb\n",
        "12/11/2014  10:18 p.m.            25,904 Lib06_Marin_Garcia.ipynb\n",
        "01/11/2014  11:38 a.m.           114,758 Lib07_Ejercicios03.ipynb\n",
        "13/11/2014  11:59 p.m.            78,166 Lib07_Marin_Garcia.ipynb\n",
        "01/11/2014  11:38 a.m.            44,576 Lib08_Ejercicios04.ipynb\n",
        "14/11/2014  01:06 a.m.            47,852 Lib08_Marin_Garcia.ipynb\n",
        "01/11/2014  11:38 a.m.            81,495 Lib09_ProcesandoDatos01.ipynb\n",
        "01/11/2014  11:38 a.m.            28,021 Lib10_GraficandoDatos.ipynb\n",
        "01/11/2014  11:38 a.m.         1,676,419 Lib11_ArchivosCSV.ipynb\n",
        "01/11/2014  11:38 a.m.           148,399 Lib12_pandas.ipynb\n",
        "13/11/2014  11:47 p.m.               614 mimodulo.py\n",
        "13/11/2014  11:47 p.m.             1,115 mimodulo.pyc\n",
        "14/11/2014  12:44 a.m.    <DIR>          temporal\n",
        "              20 archivos      2,488,125 bytes\n",
        "               4 dirs  25,531,912,192 bytes libres\n"
       ]
      }
     ],
     "prompt_number": 90
    },
    {
     "cell_type": "code",
     "collapsed": false,
     "input": [
      "!dir $ipy_notebooks"
     ],
     "language": "python",
     "metadata": {},
     "outputs": [
      {
       "output_type": "stream",
       "stream": "stdout",
       "text": [
        " El volumen de la unidad C no tiene etiqueta.\n",
        " El n\u00a3mero de serie del volumen es: 7407-B029\n",
        "\n",
        " Directorio de C:\\Users\\Gio\\Documents\\IPython Notebooks\\lania.ipython\\Dia2\\notebooks\n",
        "\n",
        "08/11/2014  10:16 a.m.            11,675 Lib01_Esenciales_Python.ipynb\n",
        "08/11/2014  10:47 a.m.            16,629 Lib02_Esenciales_DataStructures.ipynb\n",
        "08/11/2014  11:45 a.m.            19,094 Lib03_Esenciales_DataStructures.ipynb\n",
        "10/11/2014  09:52 p.m.            39,044 Lib04_Esenciales_TextFiles.ipynb\n",
        "10/11/2014  09:55 p.m.            50,856 Lib05_Ejercicios01.ipynb\n",
        "12/11/2014  08:12 p.m.            75,965 Lib05_Marin_Garcia.ipynb\n",
        "12/11/2014  09:51 p.m.            27,391 Lib06_Ejercicios02.ipynb\n",
        "12/11/2014  10:18 p.m.            25,904 Lib06_Marin_Garcia.ipynb\n",
        "01/11/2014  11:38 a.m.           114,758 Lib07_Ejercicios03.ipynb\n",
        "13/11/2014  11:59 p.m.            78,166 Lib07_Marin_Garcia.ipynb\n",
        "01/11/2014  11:38 a.m.            44,576 Lib08_Ejercicios04.ipynb\n",
        "14/11/2014  01:08 a.m.            50,065 Lib08_Marin_Garcia.ipynb\n",
        "01/11/2014  11:38 a.m.            81,495 Lib09_ProcesandoDatos01.ipynb\n",
        "01/11/2014  11:38 a.m.            28,021 Lib10_GraficandoDatos.ipynb\n",
        "01/11/2014  11:38 a.m.         1,676,419 Lib11_ArchivosCSV.ipynb\n",
        "01/11/2014  11:38 a.m.           148,399 Lib12_pandas.ipynb\n",
        "              16 archivos      2,488,457 bytes\n",
        "               0 dirs  25,531,908,096 bytes libres\n"
       ]
      }
     ],
     "prompt_number": 91
    },
    {
     "cell_type": "code",
     "collapsed": false,
     "input": [
      "%alias ld dir"
     ],
     "language": "python",
     "metadata": {},
     "outputs": [],
     "prompt_number": 103
    },
    {
     "cell_type": "code",
     "collapsed": false,
     "input": [
      "ld"
     ],
     "language": "python",
     "metadata": {},
     "outputs": [
      {
       "output_type": "stream",
       "stream": "stdout",
       "text": [
        " El volumen de la unidad C no tiene etiqueta.\n",
        " El n\u00a3mero de serie del volumen es: 7407-B029\n",
        "\n",
        " Directorio de C:\\Users\\Gio\\Documents\\IPython Notebooks\\lania.ipython\\Dia2\\notebooks\n",
        "\n",
        "14/11/2014  12:34 a.m.    <DIR>          .\n",
        "14/11/2014  12:34 a.m.    <DIR>          ..\n",
        "14/11/2014  12:01 a.m.    <DIR>          .ipynb_checkpoints\n",
        "12/11/2014  10:35 p.m.                75 hola_clase.py\n",
        "12/11/2014  10:33 p.m.                77 hola_clase_espa.py\n",
        "08/11/2014  10:16 a.m.            11,675 Lib01_Esenciales_Python.ipynb\n",
        "08/11/2014  10:47 a.m.            16,629 Lib02_Esenciales_DataStructures.ipynb\n",
        "08/11/2014  11:45 a.m.            19,094 Lib03_Esenciales_DataStructures.ipynb\n",
        "10/11/2014  09:52 p.m.            39,044 Lib04_Esenciales_TextFiles.ipynb\n",
        "10/11/2014  09:55 p.m.            50,856 Lib05_Ejercicios01.ipynb\n",
        "12/11/2014  08:12 p.m.            75,965 Lib05_Marin_Garcia.ipynb\n",
        "12/11/2014  09:51 p.m.            27,391 Lib06_Ejercicios02.ipynb\n",
        "12/11/2014  10:18 p.m.            25,904 Lib06_Marin_Garcia.ipynb\n",
        "01/11/2014  11:38 a.m.           114,758 Lib07_Ejercicios03.ipynb\n",
        "13/11/2014  11:59 p.m.            78,166 Lib07_Marin_Garcia.ipynb\n",
        "01/11/2014  11:38 a.m.            44,576 Lib08_Ejercicios04.ipynb\n",
        "14/11/2014  01:12 a.m.            52,295 Lib08_Marin_Garcia.ipynb\n",
        "01/11/2014  11:38 a.m.            81,495 Lib09_ProcesandoDatos01.ipynb\n",
        "01/11/2014  11:38 a.m.            28,021 Lib10_GraficandoDatos.ipynb\n",
        "01/11/2014  11:38 a.m.         1,676,419 Lib11_ArchivosCSV.ipynb\n",
        "01/11/2014  11:38 a.m.           148,399 Lib12_pandas.ipynb\n",
        "13/11/2014  11:47 p.m.               614 mimodulo.py\n",
        "13/11/2014  11:47 p.m.             1,115 mimodulo.pyc\n",
        "14/11/2014  12:44 a.m.    <DIR>          temporal\n",
        "              20 archivos      2,492,568 bytes\n",
        "               4 dirs  25,531,949,056 bytes libres\n"
       ]
      }
     ],
     "prompt_number": 104
    },
    {
     "cell_type": "code",
     "collapsed": false,
     "input": [
      "%alias l_temporal (cd temporal; dir)"
     ],
     "language": "python",
     "metadata": {},
     "outputs": [],
     "prompt_number": 5
    },
    {
     "cell_type": "code",
     "collapsed": false,
     "input": [
      "l_temporal"
     ],
     "language": "python",
     "metadata": {},
     "outputs": [
      {
       "output_type": "stream",
       "stream": "stderr",
       "text": [
        "El sistema no puede encontrar la ruta especificada.\n"
       ]
      }
     ],
     "prompt_number": 7
    },
    {
     "cell_type": "code",
     "collapsed": false,
     "input": [
      "%bookmark b_temporal \\temporal"
     ],
     "language": "python",
     "metadata": {},
     "outputs": [],
     "prompt_number": 147
    },
    {
     "cell_type": "code",
     "collapsed": false,
     "input": [
      "%cd b_temporal"
     ],
     "language": "python",
     "metadata": {},
     "outputs": [
      {
       "output_type": "stream",
       "stream": "stdout",
       "text": [
        "(bookmark:b_temporal) -> \\temporal\n",
        "[Error 2] El sistema no puede encontrar el archivo especificado: u'\\\\temporal'\n",
        "C:\\Users\\Gio\\Documents\\IPython Notebooks\\lania.ipython\\Dia2\\notebooks\\temporal\n"
       ]
      }
     ],
     "prompt_number": 148
    },
    {
     "cell_type": "code",
     "collapsed": false,
     "input": [
      "!dir"
     ],
     "language": "python",
     "metadata": {},
     "outputs": [
      {
       "output_type": "stream",
       "stream": "stdout",
       "text": [
        " El volumen de la unidad C no tiene etiqueta.\n",
        " El n\u00a3mero de serie del volumen es: 7407-B029\n",
        "\n",
        " Directorio de C:\\Users\\Gio\\Documents\\IPython Notebooks\\lania.ipython\\Dia2\\notebooks\n",
        "\n",
        "14/11/2014  12:34 a.m.    <DIR>          .\n",
        "14/11/2014  12:34 a.m.    <DIR>          ..\n",
        "14/11/2014  01:28 a.m.    <DIR>          .ipynb_checkpoints\n",
        "12/11/2014  10:35 p.m.                75 hola_clase.py\n",
        "12/11/2014  10:33 p.m.                77 hola_clase_espa.py\n",
        "08/11/2014  10:16 a.m.            11,675 Lib01_Esenciales_Python.ipynb\n",
        "08/11/2014  10:47 a.m.            16,629 Lib02_Esenciales_DataStructures.ipynb\n",
        "08/11/2014  11:45 a.m.            19,094 Lib03_Esenciales_DataStructures.ipynb\n",
        "10/11/2014  09:52 p.m.            39,044 Lib04_Esenciales_TextFiles.ipynb\n",
        "10/11/2014  09:55 p.m.            50,856 Lib05_Ejercicios01.ipynb\n",
        "12/11/2014  08:12 p.m.            75,965 Lib05_Marin_Garcia.ipynb\n",
        "12/11/2014  09:51 p.m.            27,391 Lib06_Ejercicios02.ipynb\n",
        "12/11/2014  10:18 p.m.            25,904 Lib06_Marin_Garcia.ipynb\n",
        "01/11/2014  11:38 a.m.           114,758 Lib07_Ejercicios03.ipynb\n",
        "13/11/2014  11:59 p.m.            78,166 Lib07_Marin_Garcia.ipynb\n",
        "14/11/2014  01:28 a.m.            44,576 Lib08_Ejercicios04.ipynb\n",
        "14/11/2014  01:28 a.m.            58,118 Lib08_Marin_Garcia.ipynb\n",
        "01/11/2014  11:38 a.m.            81,495 Lib09_ProcesandoDatos01.ipynb\n",
        "01/11/2014  11:38 a.m.            28,021 Lib10_GraficandoDatos.ipynb\n",
        "01/11/2014  11:38 a.m.         1,676,419 Lib11_ArchivosCSV.ipynb\n",
        "01/11/2014  11:38 a.m.           148,399 Lib12_pandas.ipynb\n",
        "13/11/2014  11:47 p.m.               614 mimodulo.py\n",
        "13/11/2014  11:47 p.m.             1,115 mimodulo.pyc\n",
        "14/11/2014  12:44 a.m.    <DIR>          temporal\n",
        "              20 archivos      2,498,391 bytes\n",
        "               4 dirs  25,504,198,656 bytes libres\n"
       ]
      }
     ],
     "prompt_number": 1
    }
   ],
   "metadata": {}
  }
 ]
}