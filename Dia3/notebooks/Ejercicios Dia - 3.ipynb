{
 "metadata": {
  "name": "",
  "signature": "sha256:dcc0b2af32bd359462a60d04b835b6caa394a65e81ac279d553c88112e83cc98"
 },
 "nbformat": 3,
 "nbformat_minor": 0,
 "worksheets": [
  {
   "cells": [
    {
     "cell_type": "code",
     "collapsed": false,
     "input": [
      "pwd"
     ],
     "language": "python",
     "metadata": {},
     "outputs": [
      {
       "metadata": {},
       "output_type": "pyout",
       "prompt_number": 1,
       "text": [
        "u'C:\\\\Users\\\\Gio\\\\Documents\\\\GitHub\\\\Lania.iPython.Final\\\\Dia3\\\\notebooks'"
       ]
      }
     ],
     "prompt_number": 1
    },
    {
     "cell_type": "code",
     "collapsed": false,
     "input": [
      "!dir"
     ],
     "language": "python",
     "metadata": {},
     "outputs": [
      {
       "output_type": "stream",
       "stream": "stdout",
       "text": [
        " El volumen de la unidad C no tiene etiqueta.\n",
        " El n\u00a3mero de serie del volumen es: 7407-B029\n",
        "\n",
        " Directorio de C:\\Users\\Gio\\Documents\\GitHub\\Lania.iPython.Final\\Dia3\\notebooks\n",
        "\n",
        "15/11/2014  11:56 a.m.    <DIR>          .\n",
        "15/11/2014  11:56 a.m.    <DIR>          ..\n",
        "15/11/2014  11:55 a.m.    <DIR>          .ipynb_checkpoints\n",
        "14/11/2014  07:13 p.m.            13,044 01_Adquiriendo_Datos_imagenes.ipynb\n",
        "14/11/2014  07:13 p.m.            24,216 02_Distribuyendo_Datos_imagenes.ipynb\n",
        "08/11/2014  04:21 p.m.             5,417 02_Marin_Garcia.ipynb\n",
        "14/11/2014  07:13 p.m.         1,471,070 03_Procesando_Datos_imagenes.ipynb\n",
        "14/11/2014  07:14 p.m.           262,683 04_Adquiriendo_Datos_GPS.ipynb\n",
        "15/11/2014  12:13 a.m.           462,759 04_Marin_Garcia.ipynb\n",
        "01/11/2014  11:38 a.m.            98,504 05_Adquiriendo_Datos_Accel-Copy0.ipynb\n",
        "01/11/2014  11:38 a.m.            59,756 05_Adquiriendo_Datos_Accel.ipynb\n",
        "15/11/2014  11:50 a.m.             1,766 android.py\n",
        "15/11/2014  11:56 a.m.             1,821 android.pyc\n",
        "15/11/2014  10:15 a.m.             7,291 Git prueba 1.ipynb\n",
        "08/11/2014  03:38 p.m.         1,588,464 imagenNew.jpg\n",
        "08/11/2014  04:12 p.m.           226,495 imagenNewII.jpg\n",
        "08/11/2014  04:14 p.m.         1,989,143 imagenNewIII.jpg\n",
        "08/11/2014  04:15 p.m.         1,252,025 imagenNewJ.jpg\n",
        "08/11/2014  04:16 p.m.         3,615,826 imagenNewL.jpg\n",
        "15/11/2014  12:57 p.m.            21,194 Untitled0.ipynb\n",
        "              17 archivos     11,101,474 bytes\n",
        "               3 dirs  25,323,601,920 bytes libres\n"
       ]
      }
     ],
     "prompt_number": 2
    },
    {
     "cell_type": "code",
     "collapsed": false,
     "input": [
      "import android"
     ],
     "language": "python",
     "metadata": {},
     "outputs": [],
     "prompt_number": 3
    },
    {
     "cell_type": "code",
     "collapsed": false,
     "input": [
      "%%cmd\n",
      "adb"
     ],
     "language": "python",
     "metadata": {},
     "outputs": [
      {
       "output_type": "stream",
       "stream": "stdout",
       "text": [
        "Microsoft Windows [Versi\ufffdn 6.1.7601]\r\n",
        "Copyright (c) 2009 Microsoft Corporation. Reservados todos los derechos.\r\n",
        "\r\n",
        "C:\\Users\\Gio\\Documents\\GitHub\\Lania.iPython.Final\\Dia3\\notebooks>adb\n",
        "\r\n",
        "C:\\Users\\Gio\\Documents\\GitHub\\Lania.iPython.Final\\Dia3\\notebooks>"
       ]
      },
      {
       "output_type": "stream",
       "stream": "stderr",
       "text": [
        "Android Debug Bridge version 1.0.31\r\n",
        "\r\n",
        " -a                            - directs adb to listen on all interfaces for a connection\r\n",
        " -d                            - directs command to the only connected USB device\r\n",
        "                                 returns an error if more than one USB device is present.\r\n",
        " -e                            - directs command to the only running emulator.\r\n",
        "                                 returns an error if more than one emulator is running.\r\n",
        " -s <specific device>          - directs command to the device or emulator with the given\r\n",
        "                                 serial number or qualifier. Overrides ANDROID_SERIAL\r\n",
        "                                 environment variable.\r\n",
        " -p <product name or path>     - simple product name like 'sooner', or\r\n",
        "                                 a relative/absolute path to a product\r\n",
        "                                 out directory like 'out/target/product/sooner'.\r\n",
        "                                 If -p is not specified, the ANDROID_PRODUCT_OUT\r\n",
        "                                 environment variable is used, which must\r\n",
        "                                 be an absolute path.\r\n",
        " -H                            - Name of adb server host (default: localhost)\r\n",
        " -P                            - Port of adb server (default: 5037)\r\n",
        " devices [-l]                  - list all connected devices\r\n",
        "                                 ('-l' will also list device qualifiers)\r\n",
        " connect <host>[:<port>]       - connect to a device via TCP/IP\r\n",
        "                                 Port 5555 is used by default if no port number is specified.\r\n",
        " disconnect [<host>[:<port>]]  - disconnect from a TCP/IP device.\r\n",
        "                                 Port 5555 is used by default if no port number is specified.\r\n",
        "                                 Using this command with no additional arguments\r\n",
        "                                 will disconnect from all connected TCP/IP devices.\r\n",
        "\r\n",
        "device commands:\r\n",
        "  adb push [-p] <local> <remote>\r\n",
        "                               - copy file/dir to device\r\n",
        "                                 ('-p' to display the transfer progress)\r\n",
        "  adb pull [-p] [-a] <remote> [<local>]\r\n",
        "                               - copy file/dir from device\r\n",
        "                                 ('-p' to display the transfer progress)\r\n",
        "                                 ('-a' means copy timestamp and mode)\r\n",
        "  adb sync [ <directory> ]     - copy host->device only if changed\r\n",
        "                                 (-l means list but don't copy)\r\n",
        "                                 (see 'adb help all')\r\n",
        "  adb shell                    - run remote shell interactively\r\n",
        "  adb shell <command>          - run remote shell command\r\n",
        "  adb emu <command>            - run emulator console command\r\n",
        "  adb logcat [ <filter-spec> ] - View device log\r\n",
        "  adb forward --list           - list all forward socket connections.\r\n",
        "                                 the format is a list of lines with the following format:\r\n",
        "                                    <serial> \" \" <local> \" \" <remote> \"\\n\"\r\n",
        "  adb forward <local> <remote> - forward socket connections\r\n",
        "                                 forward specs are one of: \r\n",
        "                                   tcp:<port>\r\n",
        "                                   localabstract:<unix domain socket name>\r\n",
        "                                   localreserved:<unix domain socket name>\r\n",
        "                                   localfilesystem:<unix domain socket name>\r\n",
        "                                   dev:<character device name>\r\n",
        "                                   jdwp:<process pid> (remote only)\r\n",
        "  adb forward --no-rebind <local> <remote>\r\n",
        "                               - same as 'adb forward <local> <remote>' but fails\r\n",
        "                                 if <local> is already forwarded\r\n",
        "  adb forward --remove <local> - remove a specific forward socket connection\r\n",
        "  adb forward --remove-all     - remove all forward socket connections\r\n",
        "  adb jdwp                     - list PIDs of processes hosting a JDWP transport\r\n",
        "  adb install [-l] [-r] [-d] [-s] [--algo <algorithm name> --key <hex-encoded key> --iv <hex-encoded iv>] <file>\r\n",
        "                               - push this package file to the device and install it\r\n",
        "                                 ('-l' means forward-lock the app)\r\n",
        "                                 ('-r' means reinstall the app, keeping its data)\r\n",
        "                                 ('-d' means allow version code downgrade)\r\n",
        "                                 ('-s' means install on SD card instead of internal storage)\r\n",
        "                                 ('--algo', '--key', and '--iv' mean the file is encrypted already)\r\n",
        "  adb uninstall [-k] <package> - remove this app package from the device\r\n",
        "                                 ('-k' means keep the data and cache directories)\r\n",
        "  adb bugreport                - return all information from the device\r\n",
        "                                 that should be included in a bug report.\r\n",
        "\r\n",
        "  adb backup [-f <file>] [-apk|-noapk] [-obb|-noobb] [-shared|-noshared] [-all] [-system|-nosystem] [<packages...>]\r\n",
        "                               - write an archive of the device's data to <file>.\r\n",
        "                                 If no -f option is supplied then the data is written\r\n",
        "                                 to \"backup.ab\" in the current directory.\r\n",
        "                                 (-apk|-noapk enable/disable backup of the .apks themselves\r\n",
        "                                    in the archive; the default is noapk.)\r\n",
        "                                 (-obb|-noobb enable/disable backup of any installed apk expansion\r\n",
        "                                    (aka .obb) files associated with each application; the default\r\n",
        "                                    is noobb.)\r\n",
        "                                 (-shared|-noshared enable/disable backup of the device's\r\n",
        "                                    shared storage / SD card contents; the default is noshared.)\r\n",
        "                                 (-all means to back up all installed applications)\r\n",
        "                                 (-system|-nosystem toggles whether -all automatically includes\r\n",
        "                                    system applications; the default is to include system apps)\r\n",
        "                                 (<packages...> is the list of applications to be backed up.  If\r\n",
        "                                    the -all or -shared flags are passed, then the package\r\n",
        "                                    list is optional.  Applications explicitly given on the\r\n",
        "                                    command line will be included even if -nosystem would\r\n",
        "                                    ordinarily cause them to be omitted.)\r\n",
        "\r\n",
        "  adb restore <file>           - restore device contents from the <file> backup archive\r\n",
        "\r\n",
        "  adb help                     - show this help message\r\n",
        "  adb version                  - show version num\r\n",
        "\r\n",
        "scripting:\r\n",
        "  adb wait-for-device          - block until device is online\r\n",
        "  adb start-server             - ensure that there is a server running\r\n",
        "  adb kill-server              - kill the server if it is running\r\n",
        "  adb get-state                - prints: offline | bootloader | device\r\n",
        "  adb get-serialno             - prints: <serial-number>\r\n",
        "  adb get-devpath              - prints: <device-path>\r\n",
        "  adb status-window            - continuously print device status for a specified device\r\n",
        "  adb remount                  - remounts the /system partition on the device read-write\r\n",
        "  adb reboot [bootloader|recovery] - reboots the device, optionally into the bootloader or recovery program\r\n",
        "  adb reboot-bootloader        - reboots the device into the bootloader\r\n",
        "  adb root                     - restarts the adbd daemon with root permissions\r\n",
        "  adb usb                      - restarts the adbd daemon listening on USB\r\n",
        "  adb tcpip <port>             - restarts the adbd daemon listening on TCP on the specified port\r\n",
        "networking:\r\n",
        "  adb ppp <tty> [parameters]   - Run PPP over USB.\r\n",
        " Note: you should not automatically start a PPP connection.\r\n",
        " <tty> refers to the tty for PPP stream. Eg. dev:/dev/omap_csmi_tty1\r\n",
        " [parameters] - Eg. defaultroute debug dump local notty usepeerdns\r\n",
        "\r\n",
        "adb sync notes: adb sync [ <directory> ]\r\n",
        "  <localdir> can be interpreted in several ways:\r\n",
        "\r\n",
        "  - If <directory> is not specified, both /system and /data partitions will be updated.\r\n",
        "\r\n",
        "  - If it is \"system\" or \"data\", only the corresponding partition\r\n",
        "    is updated.\r\n",
        "\r\n",
        "environmental variables:\r\n",
        "  ADB_TRACE                    - Print debug information. A comma separated list of the following values\r\n",
        "                                 1 or all, adb, sockets, packets, rwx, usb, sync, sysdeps, transport, jdwp\r\n",
        "  ANDROID_SERIAL               - The serial number to connect to. -s takes priority over this if given.\r\n",
        "  ANDROID_LOG_TAGS             - When used with the logcat option, only these debug tags are printed.\r\n"
       ]
      }
     ],
     "prompt_number": 4
    },
    {
     "cell_type": "code",
     "collapsed": false,
     "input": [
      "%%cmd\n",
      "adb forward tcp:9999 tcp:4321"
     ],
     "language": "python",
     "metadata": {},
     "outputs": [
      {
       "output_type": "stream",
       "stream": "stdout",
       "text": [
        "Microsoft Windows [Versi\ufffdn 6.1.7601]\r\n",
        "Copyright (c) 2009 Microsoft Corporation. Reservados todos los derechos.\r\n",
        "\r\n",
        "C:\\Users\\Gio\\Documents\\GitHub\\Lania.iPython.Final\\Dia3\\notebooks>adb forward tcp:9999 tcp:4321\n",
        "\r\n",
        "C:\\Users\\Gio\\Documents\\GitHub\\Lania.iPython.Final\\Dia3\\notebooks>"
       ]
      },
      {
       "output_type": "stream",
       "stream": "stderr",
       "text": [
        "error: device not found\r\n",
        "error: device not found\r\n"
       ]
      }
     ],
     "prompt_number": 5
    },
    {
     "cell_type": "code",
     "collapsed": false,
     "input": [
      "%%cmd\n",
      "adb devices"
     ],
     "language": "python",
     "metadata": {},
     "outputs": [
      {
       "output_type": "stream",
       "stream": "stdout",
       "text": [
        "Microsoft Windows [Versi\ufffdn 6.1.7601]\r\n",
        "Copyright (c) 2009 Microsoft Corporation. Reservados todos los derechos.\r\n",
        "\r\n",
        "C:\\Users\\Gio\\Documents\\GitHub\\Lania.iPython.Final\\Dia3\\notebooks>adb devices\n",
        "List of devices attached \r\n",
        "\r\n",
        "\r\n",
        "C:\\Users\\Gio\\Documents\\GitHub\\Lania.iPython.Final\\Dia3\\notebooks>"
       ]
      }
     ],
     "prompt_number": 6
    },
    {
     "cell_type": "code",
     "collapsed": false,
     "input": [
      "%%cmd\n",
      "adb forward tcp:9999 tcp:52531\n",
      "set AP_PORT=9999"
     ],
     "language": "python",
     "metadata": {},
     "outputs": [
      {
       "output_type": "stream",
       "stream": "stdout",
       "text": [
        "Microsoft Windows [Versi\ufffdn 6.1.7601]\r\n",
        "Copyright (c) 2009 Microsoft Corporation. Reservados todos los derechos.\r\n",
        "\r\n",
        "C:\\Users\\Gio\\Documents\\GitHub\\Lania.iPython.Final\\Dia3\\notebooks>adb forward tcp:9999 tcp:52531\n",
        "\r\n",
        "C:\\Users\\Gio\\Documents\\GitHub\\Lania.iPython.Final\\Dia3\\notebooks>set AP_PORT=9999\n",
        "\r\n",
        "C:\\Users\\Gio\\Documents\\GitHub\\Lania.iPython.Final\\Dia3\\notebooks>"
       ]
      },
      {
       "output_type": "stream",
       "stream": "stderr",
       "text": [
        "error: device not found\r\n",
        "error: device not found\r\n"
       ]
      }
     ],
     "prompt_number": 7
    },
    {
     "cell_type": "code",
     "collapsed": false,
     "input": [
      "droide = android.Android()"
     ],
     "language": "python",
     "metadata": {},
     "outputs": [
      {
       "ename": "error",
       "evalue": "[Errno 10061] No se puede establecer una conexi\u00f3n ya que el equipo de destino deneg\u00f3 expresamente dicha conexi\u00f3n",
       "output_type": "pyerr",
       "traceback": [
        "\u001b[1;31m---------------------------------------------------------------------------\u001b[0m\n\u001b[1;31merror\u001b[0m                                     Traceback (most recent call last)",
        "\u001b[1;32m<ipython-input-8-d75412984e99>\u001b[0m in \u001b[0;36m<module>\u001b[1;34m()\u001b[0m\n\u001b[1;32m----> 1\u001b[1;33m \u001b[0mdroide\u001b[0m \u001b[1;33m=\u001b[0m \u001b[0mandroid\u001b[0m\u001b[1;33m.\u001b[0m\u001b[0mAndroid\u001b[0m\u001b[1;33m(\u001b[0m\u001b[1;33m)\u001b[0m\u001b[1;33m\u001b[0m\u001b[0m\n\u001b[0m",
        "\u001b[1;32mC:\\Users\\Gio\\Documents\\GitHub\\Lania.iPython.Final\\Dia3\\notebooks\\android.pyc\u001b[0m in \u001b[0;36m__init__\u001b[1;34m(self, addr)\u001b[0m\n\u001b[0;32m     32\u001b[0m     \u001b[1;32mif\u001b[0m \u001b[0maddr\u001b[0m \u001b[1;32mis\u001b[0m \u001b[0mNone\u001b[0m\u001b[1;33m:\u001b[0m\u001b[1;33m\u001b[0m\u001b[0m\n\u001b[0;32m     33\u001b[0m       \u001b[0maddr\u001b[0m \u001b[1;33m=\u001b[0m \u001b[0mHOST\u001b[0m\u001b[1;33m,\u001b[0m \u001b[0mPORT\u001b[0m\u001b[1;33m\u001b[0m\u001b[0m\n\u001b[1;32m---> 34\u001b[1;33m     \u001b[0mself\u001b[0m\u001b[1;33m.\u001b[0m\u001b[0mconn\u001b[0m \u001b[1;33m=\u001b[0m \u001b[0msocket\u001b[0m\u001b[1;33m.\u001b[0m\u001b[0mcreate_connection\u001b[0m\u001b[1;33m(\u001b[0m\u001b[0maddr\u001b[0m\u001b[1;33m)\u001b[0m\u001b[1;33m\u001b[0m\u001b[0m\n\u001b[0m\u001b[0;32m     35\u001b[0m     \u001b[0mself\u001b[0m\u001b[1;33m.\u001b[0m\u001b[0mclient\u001b[0m \u001b[1;33m=\u001b[0m \u001b[0mself\u001b[0m\u001b[1;33m.\u001b[0m\u001b[0mconn\u001b[0m\u001b[1;33m.\u001b[0m\u001b[0mmakefile\u001b[0m\u001b[1;33m(\u001b[0m\u001b[1;33m)\u001b[0m\u001b[1;33m\u001b[0m\u001b[0m\n\u001b[0;32m     36\u001b[0m     \u001b[0mself\u001b[0m\u001b[1;33m.\u001b[0m\u001b[0mid\u001b[0m \u001b[1;33m=\u001b[0m \u001b[1;36m0\u001b[0m\u001b[1;33m\u001b[0m\u001b[0m\n",
        "\u001b[1;32mC:\\Users\\Gio\\Anaconda\\lib\\socket.pyc\u001b[0m in \u001b[0;36mcreate_connection\u001b[1;34m(address, timeout, source_address)\u001b[0m\n\u001b[0;32m    569\u001b[0m \u001b[1;33m\u001b[0m\u001b[0m\n\u001b[0;32m    570\u001b[0m     \u001b[1;32mif\u001b[0m \u001b[0merr\u001b[0m \u001b[1;32mis\u001b[0m \u001b[1;32mnot\u001b[0m \u001b[0mNone\u001b[0m\u001b[1;33m:\u001b[0m\u001b[1;33m\u001b[0m\u001b[0m\n\u001b[1;32m--> 571\u001b[1;33m         \u001b[1;32mraise\u001b[0m \u001b[0merr\u001b[0m\u001b[1;33m\u001b[0m\u001b[0m\n\u001b[0m\u001b[0;32m    572\u001b[0m     \u001b[1;32melse\u001b[0m\u001b[1;33m:\u001b[0m\u001b[1;33m\u001b[0m\u001b[0m\n\u001b[0;32m    573\u001b[0m         \u001b[1;32mraise\u001b[0m \u001b[0merror\u001b[0m\u001b[1;33m(\u001b[0m\u001b[1;34m\"getaddrinfo returns an empty list\"\u001b[0m\u001b[1;33m)\u001b[0m\u001b[1;33m\u001b[0m\u001b[0m\n",
        "\u001b[1;31merror\u001b[0m: [Errno 10061] No se puede establecer una conexi\u00f3n ya que el equipo de destino deneg\u00f3 expresamente dicha conexi\u00f3n"
       ]
      }
     ],
     "prompt_number": 8
    },
    {
     "cell_type": "code",
     "collapsed": false,
     "input": [
      "droide.ttsSpeak(\"vamos a comer\")"
     ],
     "language": "python",
     "metadata": {},
     "outputs": [
      {
       "ename": "NameError",
       "evalue": "name 'droide' is not defined",
       "output_type": "pyerr",
       "traceback": [
        "\u001b[1;31m---------------------------------------------------------------------------\u001b[0m\n\u001b[1;31mNameError\u001b[0m                                 Traceback (most recent call last)",
        "\u001b[1;32m<ipython-input-9-b8f78a1067be>\u001b[0m in \u001b[0;36m<module>\u001b[1;34m()\u001b[0m\n\u001b[1;32m----> 1\u001b[1;33m \u001b[0mdroide\u001b[0m\u001b[1;33m.\u001b[0m\u001b[0mttsSpeak\u001b[0m\u001b[1;33m(\u001b[0m\u001b[1;34m\"vamos a comer\"\u001b[0m\u001b[1;33m)\u001b[0m\u001b[1;33m\u001b[0m\u001b[0m\n\u001b[0m",
        "\u001b[1;31mNameError\u001b[0m: name 'droide' is not defined"
       ]
      }
     ],
     "prompt_number": 9
    },
    {
     "cell_type": "heading",
     "level": 2,
     "metadata": {},
     "source": [
      "Ejemplo II"
     ]
    },
    {
     "cell_type": "code",
     "collapsed": false,
     "input": [
      "import android"
     ],
     "language": "python",
     "metadata": {},
     "outputs": [],
     "prompt_number": 10
    },
    {
     "cell_type": "code",
     "collapsed": false,
     "input": [
      "droide = android.Android()"
     ],
     "language": "python",
     "metadata": {},
     "outputs": [
      {
       "ename": "error",
       "evalue": "[Errno 10061] No se puede establecer una conexi\u00f3n ya que el equipo de destino deneg\u00f3 expresamente dicha conexi\u00f3n",
       "output_type": "pyerr",
       "traceback": [
        "\u001b[1;31m---------------------------------------------------------------------------\u001b[0m\n\u001b[1;31merror\u001b[0m                                     Traceback (most recent call last)",
        "\u001b[1;32m<ipython-input-11-d75412984e99>\u001b[0m in \u001b[0;36m<module>\u001b[1;34m()\u001b[0m\n\u001b[1;32m----> 1\u001b[1;33m \u001b[0mdroide\u001b[0m \u001b[1;33m=\u001b[0m \u001b[0mandroid\u001b[0m\u001b[1;33m.\u001b[0m\u001b[0mAndroid\u001b[0m\u001b[1;33m(\u001b[0m\u001b[1;33m)\u001b[0m\u001b[1;33m\u001b[0m\u001b[0m\n\u001b[0m",
        "\u001b[1;32mC:\\Users\\Gio\\Documents\\GitHub\\Lania.iPython.Final\\Dia3\\notebooks\\android.pyc\u001b[0m in \u001b[0;36m__init__\u001b[1;34m(self, addr)\u001b[0m\n\u001b[0;32m     32\u001b[0m     \u001b[1;32mif\u001b[0m \u001b[0maddr\u001b[0m \u001b[1;32mis\u001b[0m \u001b[0mNone\u001b[0m\u001b[1;33m:\u001b[0m\u001b[1;33m\u001b[0m\u001b[0m\n\u001b[0;32m     33\u001b[0m       \u001b[0maddr\u001b[0m \u001b[1;33m=\u001b[0m \u001b[0mHOST\u001b[0m\u001b[1;33m,\u001b[0m \u001b[0mPORT\u001b[0m\u001b[1;33m\u001b[0m\u001b[0m\n\u001b[1;32m---> 34\u001b[1;33m     \u001b[0mself\u001b[0m\u001b[1;33m.\u001b[0m\u001b[0mconn\u001b[0m \u001b[1;33m=\u001b[0m \u001b[0msocket\u001b[0m\u001b[1;33m.\u001b[0m\u001b[0mcreate_connection\u001b[0m\u001b[1;33m(\u001b[0m\u001b[0maddr\u001b[0m\u001b[1;33m)\u001b[0m\u001b[1;33m\u001b[0m\u001b[0m\n\u001b[0m\u001b[0;32m     35\u001b[0m     \u001b[0mself\u001b[0m\u001b[1;33m.\u001b[0m\u001b[0mclient\u001b[0m \u001b[1;33m=\u001b[0m \u001b[0mself\u001b[0m\u001b[1;33m.\u001b[0m\u001b[0mconn\u001b[0m\u001b[1;33m.\u001b[0m\u001b[0mmakefile\u001b[0m\u001b[1;33m(\u001b[0m\u001b[1;33m)\u001b[0m\u001b[1;33m\u001b[0m\u001b[0m\n\u001b[0;32m     36\u001b[0m     \u001b[0mself\u001b[0m\u001b[1;33m.\u001b[0m\u001b[0mid\u001b[0m \u001b[1;33m=\u001b[0m \u001b[1;36m0\u001b[0m\u001b[1;33m\u001b[0m\u001b[0m\n",
        "\u001b[1;32mC:\\Users\\Gio\\Anaconda\\lib\\socket.pyc\u001b[0m in \u001b[0;36mcreate_connection\u001b[1;34m(address, timeout, source_address)\u001b[0m\n\u001b[0;32m    569\u001b[0m \u001b[1;33m\u001b[0m\u001b[0m\n\u001b[0;32m    570\u001b[0m     \u001b[1;32mif\u001b[0m \u001b[0merr\u001b[0m \u001b[1;32mis\u001b[0m \u001b[1;32mnot\u001b[0m \u001b[0mNone\u001b[0m\u001b[1;33m:\u001b[0m\u001b[1;33m\u001b[0m\u001b[0m\n\u001b[1;32m--> 571\u001b[1;33m         \u001b[1;32mraise\u001b[0m \u001b[0merr\u001b[0m\u001b[1;33m\u001b[0m\u001b[0m\n\u001b[0m\u001b[0;32m    572\u001b[0m     \u001b[1;32melse\u001b[0m\u001b[1;33m:\u001b[0m\u001b[1;33m\u001b[0m\u001b[0m\n\u001b[0;32m    573\u001b[0m         \u001b[1;32mraise\u001b[0m \u001b[0merror\u001b[0m\u001b[1;33m(\u001b[0m\u001b[1;34m\"getaddrinfo returns an empty list\"\u001b[0m\u001b[1;33m)\u001b[0m\u001b[1;33m\u001b[0m\u001b[0m\n",
        "\u001b[1;31merror\u001b[0m: [Errno 10061] No se puede establecer una conexi\u00f3n ya que el equipo de destino deneg\u00f3 expresamente dicha conexi\u00f3n"
       ]
      }
     ],
     "prompt_number": 11
    },
    {
     "cell_type": "code",
     "collapsed": false,
     "input": [
      "droide.dialogGetInput('TTS', 'Escriban el mensaje que quieren que repita')"
     ],
     "language": "python",
     "metadata": {},
     "outputs": [
      {
       "ename": "NameError",
       "evalue": "name 'droide' is not defined",
       "output_type": "pyerr",
       "traceback": [
        "\u001b[1;31m---------------------------------------------------------------------------\u001b[0m\n\u001b[1;31mNameError\u001b[0m                                 Traceback (most recent call last)",
        "\u001b[1;32m<ipython-input-12-38d24908e8e5>\u001b[0m in \u001b[0;36m<module>\u001b[1;34m()\u001b[0m\n\u001b[1;32m----> 1\u001b[1;33m \u001b[0mdroide\u001b[0m\u001b[1;33m.\u001b[0m\u001b[0mdialogGetInput\u001b[0m\u001b[1;33m(\u001b[0m\u001b[1;34m'TTS'\u001b[0m\u001b[1;33m,\u001b[0m \u001b[1;34m'Escriban el mensaje que quieren que repita'\u001b[0m\u001b[1;33m)\u001b[0m\u001b[1;33m\u001b[0m\u001b[0m\n\u001b[0m",
        "\u001b[1;31mNameError\u001b[0m: name 'droide' is not defined"
       ]
      }
     ],
     "prompt_number": 12
    },
    {
     "cell_type": "code",
     "collapsed": false,
     "input": [
      "droide.dialogGetInput('TTS', 'Escriban el mensaje que quieren que repita').result"
     ],
     "language": "python",
     "metadata": {},
     "outputs": []
    },
    {
     "cell_type": "code",
     "collapsed": false,
     "input": [
      "droide.makeToast('hola')"
     ],
     "language": "python",
     "metadata": {},
     "outputs": []
    },
    {
     "cell_type": "code",
     "collapsed": false,
     "input": [
      "droide.makeToast('hola').id"
     ],
     "language": "python",
     "metadata": {},
     "outputs": []
    },
    {
     "cell_type": "code",
     "collapsed": false,
     "input": [
      "mensaje = droide.dialogGetInput('TTS', 'Escriban el mensaje que quieren que repita').result"
     ],
     "language": "python",
     "metadata": {},
     "outputs": []
    },
    {
     "cell_type": "code",
     "collapsed": false,
     "input": [
      "mensaje"
     ],
     "language": "python",
     "metadata": {},
     "outputs": []
    },
    {
     "cell_type": "code",
     "collapsed": false,
     "input": [
      "if nit droide.makeToast('hola').error:\n",
      "    print droide.makeToast('hola').result"
     ],
     "language": "python",
     "metadata": {},
     "outputs": []
    },
    {
     "cell_type": "code",
     "collapsed": false,
     "input": [
      "droide.ttsSpeak(mensaje)"
     ],
     "language": "python",
     "metadata": {},
     "outputs": []
    },
    {
     "cell_type": "heading",
     "level": 2,
     "metadata": {},
     "source": [
      "Ejercicio III"
     ]
    },
    {
     "cell_type": "code",
     "collapsed": false,
     "input": [
      "import android"
     ],
     "language": "python",
     "metadata": {},
     "outputs": []
    },
    {
     "cell_type": "code",
     "collapsed": false,
     "input": [
      "droid = android.Android()"
     ],
     "language": "python",
     "metadata": {},
     "outputs": []
    },
    {
     "cell_type": "code",
     "collapsed": false,
     "input": [
      "print droid.getClipboard().result"
     ],
     "language": "python",
     "metadata": {},
     "outputs": []
    },
    {
     "cell_type": "code",
     "collapsed": false,
     "input": [
      "previous = droid.getClipboard().result"
     ],
     "language": "python",
     "metadata": {},
     "outputs": []
    },
    {
     "cell_type": "code",
     "collapsed": false,
     "input": [
      "msg = 'Hola clase'"
     ],
     "language": "python",
     "metadata": {},
     "outputs": []
    },
    {
     "cell_type": "code",
     "collapsed": false,
     "input": [
      "droid.setClipboard(msg)"
     ],
     "language": "python",
     "metadata": {},
     "outputs": []
    },
    {
     "cell_type": "code",
     "collapsed": false,
     "input": [
      "echo = droid.getClipboard().result"
     ],
     "language": "python",
     "metadata": {},
     "outputs": []
    },
    {
     "cell_type": "code",
     "collapsed": false,
     "input": [
      "droid.setClipboard(previous)"
     ],
     "language": "python",
     "metadata": {},
     "outputs": []
    },
    {
     "cell_type": "heading",
     "level": 2,
     "metadata": {},
     "source": [
      "Ejemplo IV"
     ]
    },
    {
     "cell_type": "code",
     "collapsed": false,
     "input": [
      "droid.startSensingTimed(1, 100) #1 todos los sensores - 100 milisegundos"
     ],
     "language": "python",
     "metadata": {},
     "outputs": []
    },
    {
     "cell_type": "code",
     "collapsed": false,
     "input": [
      "for i in range(10):\n",
      "    e = droid.eventPoll(1)\n",
      "    if e.result is not None:\n",
      "        print True\n",
      "    else:\n",
      "        time.sleep(2)\n",
      "        print False"
     ],
     "language": "python",
     "metadata": {},
     "outputs": []
    },
    {
     "cell_type": "code",
     "collapsed": false,
     "input": [
      "droid.stopSensing()"
     ],
     "language": "python",
     "metadata": {},
     "outputs": []
    },
    {
     "cell_type": "heading",
     "level": 2,
     "metadata": {},
     "source": [
      "Ejemplo V - GPS"
     ]
    },
    {
     "cell_type": "code",
     "collapsed": false,
     "input": [
      "droid.startLocating()"
     ],
     "language": "python",
     "metadata": {},
     "outputs": []
    },
    {
     "cell_type": "code",
     "collapsed": false,
     "input": [
      "import time\n",
      "for i in range(10):\n",
      "    e = droid.eventPoll(1)\n",
      "    if e.result is not None:\n",
      "        print True\n",
      "    else:\n",
      "        time.sleep(2)\n",
      "        print False"
     ],
     "language": "python",
     "metadata": {},
     "outputs": []
    },
    {
     "cell_type": "code",
     "collapsed": false,
     "input": [
      "droid.stopLocating()"
     ],
     "language": "python",
     "metadata": {},
     "outputs": []
    },
    {
     "cell_type": "code",
     "collapsed": false,
     "input": [
      "result = droid.getLastKnownLocation()\n",
      "result"
     ],
     "language": "python",
     "metadata": {},
     "outputs": []
    },
    {
     "cell_type": "code",
     "collapsed": false,
     "input": [
      "result.result"
     ],
     "language": "python",
     "metadata": {},
     "outputs": []
    },
    {
     "cell_type": "code",
     "collapsed": false,
     "input": [
      "droid.geocode(0.0,0.0,1)"
     ],
     "language": "python",
     "metadata": {},
     "outputs": []
    },
    {
     "cell_type": "heading",
     "level": 2,
     "metadata": {},
     "source": [
      "Ejemplo VI"
     ]
    },
    {
     "cell_type": "code",
     "collapsed": false,
     "input": [
      "droid.startTrackingPhoneState()"
     ],
     "language": "python",
     "metadata": {},
     "outputs": []
    },
    {
     "cell_type": "code",
     "collapsed": false,
     "input": [
      "for i in range(10):\n",
      "    e = droid.eventPoll(1)\n",
      "    if e.result is not None:\n",
      "        print True\n",
      "    else:\n",
      "        time.sleep(2)\n",
      "        print False"
     ],
     "language": "python",
     "metadata": {},
     "outputs": []
    },
    {
     "cell_type": "code",
     "collapsed": false,
     "input": [
      "droid.stopTrackingPhoneState()"
     ],
     "language": "python",
     "metadata": {},
     "outputs": []
    },
    {
     "cell_type": "code",
     "collapsed": false,
     "input": [
      "droid.toggleWifiState()"
     ],
     "language": "python",
     "metadata": {},
     "outputs": []
    },
    {
     "cell_type": "code",
     "collapsed": false,
     "input": [
      "droid.toggleWifiState()"
     ],
     "language": "python",
     "metadata": {},
     "outputs": []
    },
    {
     "cell_type": "code",
     "collapsed": false,
     "input": [
      "if droid.toggleWifiState().result is True:\n",
      "    droid.ttsSpeak(\"Despierten!\")"
     ],
     "language": "python",
     "metadata": {},
     "outputs": []
    },
    {
     "cell_type": "heading",
     "level": 2,
     "metadata": {},
     "source": [
      "Ejemplo VII - Aceleraci\u00f3n"
     ]
    },
    {
     "cell_type": "code",
     "collapsed": false,
     "input": [
      "dt = 100"
     ],
     "language": "python",
     "metadata": {},
     "outputs": []
    },
    {
     "cell_type": "code",
     "collapsed": false,
     "input": [
      "final = 3000"
     ],
     "language": "python",
     "metadata": {},
     "outputs": []
    },
    {
     "cell_type": "code",
     "collapsed": false,
     "input": [
      "import time"
     ],
     "language": "python",
     "metadata": {},
     "outputs": []
    },
    {
     "cell_type": "code",
     "collapsed": false,
     "input": [
      "tiempo = 0\n",
      "droid.startSensingTimed(2, dt)\n",
      "\n",
      "while tiempo <= final:\n",
      "    print droid.sensorsReadAccelerometer().result\n",
      "    time.sleep(dt/1000.0)\n",
      "    tiempo += dt\n",
      "\n",
      "droid.stopSensing()"
     ],
     "language": "python",
     "metadata": {},
     "outputs": []
    },
    {
     "cell_type": "heading",
     "level": 2,
     "metadata": {},
     "source": [
      "Proyecto Final (primer intento)"
     ]
    },
    {
     "cell_type": "code",
     "collapsed": false,
     "input": [
      "name = droid.dialogGetInput(\"Hola\", \"Quieres obtener la altitud\")"
     ],
     "language": "python",
     "metadata": {},
     "outputs": []
    },
    {
     "cell_type": "code",
     "collapsed": false,
     "input": [
      "if name.result is not -1:\n",
      "    droid.ttsSpeak(\"Ahora comienza a caminar\")"
     ],
     "language": "python",
     "metadata": {},
     "outputs": []
    },
    {
     "cell_type": "heading",
     "level": 4,
     "metadata": {},
     "source": [
      "Obtiene Altitud"
     ]
    },
    {
     "cell_type": "code",
     "collapsed": false,
     "input": [
      "%%file archivo.py"
     ],
     "language": "python",
     "metadata": {},
     "outputs": []
    },
    {
     "cell_type": "code",
     "collapsed": false,
     "input": [
      "import android"
     ],
     "language": "python",
     "metadata": {},
     "outputs": []
    },
    {
     "cell_type": "code",
     "collapsed": false,
     "input": [
      "%%cmd\n",
      "adb forward tcp:9999 tcp:4321"
     ],
     "language": "python",
     "metadata": {},
     "outputs": []
    },
    {
     "cell_type": "code",
     "collapsed": false,
     "input": [
      "droide = android.Android()"
     ],
     "language": "python",
     "metadata": {},
     "outputs": []
    },
    {
     "cell_type": "code",
     "collapsed": false,
     "input": [
      "droid.dialogCreateAlert(\"Altitud\",\"\u00bfDesea obtener la altitud?\")\n",
      "droid.dialogSetPositiveButtonText(\"Si\")\n",
      "droid.dialogSetNegativeButtonText(\"No\")\n",
      "droid.dialogShow()\n",
      "response=droid.dialogGetResponse().result\n",
      "droid.dialogDismiss()\n",
      "if response.has_key(\"which\"):\n",
      "  result=response[\"which\"]\n",
      "  if result==\"positive\":\n",
      "    print \"Activando el GPS!\"\n",
      "    droid.ttsSpeak(\"Obteniendo lectura\")\n",
      "  elif result==\"negative\":\n",
      "    print \"Finalizando aplicaci\u00f3n...\"\n",
      "    droid.ttsSpeak(\"Cerrando la aplicaci\u00f3n\")\n",
      "elif response.has_key(\"canceled\"): # Yes, I know it's mispelled.\n",
      "  print \"You can't even make up your mind?\"\n",
      "else:\n",
      "  print \"Unknown response=\",response\n",
      "\n",
      "print \"Done\""
     ],
     "language": "python",
     "metadata": {},
     "outputs": []
    }
   ],
   "metadata": {}
  }
 ]
}