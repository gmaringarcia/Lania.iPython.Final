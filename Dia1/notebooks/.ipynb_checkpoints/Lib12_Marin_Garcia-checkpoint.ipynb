{
 "metadata": {
  "name": "",
  "signature": "sha256:dd51097e80cb6f27f983734a56bf4bc78bdc55656852cae9317aada10bf967f7"
 },
 "nbformat": 3,
 "nbformat_minor": 0,
 "worksheets": [
  {
   "cells": [
    {
     "cell_type": "code",
     "collapsed": false,
     "input": [
      "import os\n",
      "os.getcwd()\n",
      "os.chdir('gitdemo')\n",
      "\n",
      "!git status\n",
      "!dir"
     ],
     "language": "python",
     "metadata": {},
     "outputs": [
      {
       "output_type": "stream",
       "stream": "stdout",
       "text": [
        "On branch master\n",
        "nothing to commit, working directory clean\n"
       ]
      },
      {
       "output_type": "stream",
       "stream": "stdout",
       "text": [
        " El volumen de la unidad C no tiene etiqueta.\n",
        " El n\u00a3mero de serie del volumen es: 7407-B029\n",
        "\n",
        " Directorio de C:\\Users\\Gio\\Documents\\IPython Notebooks\\lania.ipython\\Dia1\\notebooks\\gitdemo\n",
        "\n",
        "07/11/2014  07:50 p.m.    <DIR>          .\n",
        "07/11/2014  07:50 p.m.    <DIR>          ..\n",
        "07/11/2014  07:33 p.m.                82 archivo-nuevo.txt\n",
        "               1 archivos             82 bytes\n",
        "               2 dirs  29,377,167,360 bytes libres\n"
       ]
      }
     ],
     "prompt_number": 4
    },
    {
     "cell_type": "code",
     "collapsed": false,
     "input": [
      "!git branch experimento\n",
      "!git checkout experimento"
     ],
     "language": "python",
     "metadata": {},
     "outputs": [
      {
       "output_type": "stream",
       "stream": "stderr",
       "text": [
        "Switched to branch 'experimento'\n"
       ]
      }
     ],
     "prompt_number": 5
    },
    {
     "cell_type": "code",
     "collapsed": false,
     "input": [
      "!echo \"Se me ocurrieron unas ideas locas!\" > experimento.txt\n",
      "!git add experimento.txt\n",
      "!git commit -a -m \"Probando cosas nuevas\"\n",
      "!git slog"
     ],
     "language": "python",
     "metadata": {},
     "outputs": [
      {
       "output_type": "stream",
       "stream": "stdout",
       "text": [
        "[experimento 12c97b6] Probando cosas nuevas\n",
        " 1 file changed, 1 insertion(+)\n",
        " create mode 100644 experimento.txt\n"
       ]
      },
      {
       "output_type": "stream",
       "stream": "stdout",
       "text": [
        "* 12c97b6 Probando cosas nuevas\n",
        "* 522c862 Se elimino el archivo2.txt\n",
        "* 0b2cb50 Por fin algo de progreso - Archivo 2\n",
        "* 70d3cab Este archivo refleja el segundo compromiso - Archivo 2\n",
        "* 7d057e7 Me gusta mas este nombre\n",
        "* ca56087 Por fin algo de progreso - Archivo 1\n",
        "* 6d9d7e1 Este archivo refleja el primer compromiso - Archivo 1\n"
       ]
      }
     ],
     "prompt_number": 6
    },
    {
     "cell_type": "code",
     "collapsed": false,
     "input": [
      "!git checkout master\n",
      "!git slog"
     ],
     "language": "python",
     "metadata": {},
     "outputs": [
      {
       "output_type": "stream",
       "stream": "stderr",
       "text": [
        "Switched to branch 'master'\n"
       ]
      },
      {
       "output_type": "stream",
       "stream": "stdout",
       "text": [
        "* 522c862 Se elimino el archivo2.txt\n",
        "* 0b2cb50 Por fin algo de progreso - Archivo 2\n",
        "* 70d3cab Este archivo refleja el segundo compromiso - Archivo 2\n",
        "* 7d057e7 Me gusta mas este nombre\n",
        "* ca56087 Por fin algo de progreso - Archivo 1\n",
        "* 6d9d7e1 Este archivo refleja el primer compromiso - Archivo 1\n"
       ]
      }
     ],
     "prompt_number": 7
    },
    {
     "cell_type": "code",
     "collapsed": false,
     "input": [
      "!echo \"Ahora el trabajo continua en la rama master...\" >> archivo-nuevo.txt\n",
      "!git commit -a -m \"La rama mayor sigue creciendo\"\n",
      "!git slog"
     ],
     "language": "python",
     "metadata": {},
     "outputs": [
      {
       "output_type": "stream",
       "stream": "stdout",
       "text": [
        "[master 537f84b] La rama mayor sigue creciendo\n",
        " 1 file changed, 1 insertion(+)\n"
       ]
      },
      {
       "output_type": "stream",
       "stream": "stdout",
       "text": [
        "* 537f84b La rama mayor sigue creciendo\n",
        "* 522c862 Se elimino el archivo2.txt\n",
        "* 0b2cb50 Por fin algo de progreso - Archivo 2\n",
        "* 70d3cab Este archivo refleja el segundo compromiso - Archivo 2\n",
        "* 7d057e7 Me gusta mas este nombre\n",
        "* ca56087 Por fin algo de progreso - Archivo 1\n",
        "* 6d9d7e1 Este archivo refleja el primer compromiso - Archivo 1\n"
       ]
      }
     ],
     "prompt_number": 8
    },
    {
     "cell_type": "code",
     "collapsed": false,
     "input": [
      "!dir"
     ],
     "language": "python",
     "metadata": {},
     "outputs": [
      {
       "output_type": "stream",
       "stream": "stdout",
       "text": [
        " El volumen de la unidad C no tiene etiqueta.\n",
        " El n\u00a3mero de serie del volumen es: 7407-B029\n",
        "\n",
        " Directorio de C:\\Users\\Gio\\Documents\\IPython Notebooks\\lania.ipython\\Dia1\\notebooks\\gitdemo\n",
        "\n",
        "07/11/2014  08:05 p.m.    <DIR>          .\n",
        "07/11/2014  08:05 p.m.    <DIR>          ..\n",
        "07/11/2014  08:06 p.m.               133 archivo-nuevo.txt\n",
        "               1 archivos            133 bytes\n",
        "               2 dirs  29,377,163,264 bytes libres\n"
       ]
      }
     ],
     "prompt_number": 9
    },
    {
     "cell_type": "code",
     "collapsed": false,
     "input": [
      "!git merge experimento\n",
      "!git slog"
     ],
     "language": "python",
     "metadata": {},
     "outputs": [
      {
       "output_type": "stream",
       "stream": "stdout",
       "text": [
        "Merge made by the 'recursive' strategy.\n",
        " experimento.txt | 1 +\n",
        " 1 file changed, 1 insertion(+)\n",
        " create mode 100644 experimento.txt\n"
       ]
      },
      {
       "output_type": "stream",
       "stream": "stdout",
       "text": [
        "*   275579b Merge branch 'experimento'\n",
        "|\\  \n",
        "| * 12c97b6 Probando cosas nuevas\n",
        "* | 537f84b La rama mayor sigue creciendo\n",
        "|/  \n",
        "* 522c862 Se elimino el archivo2.txt\n",
        "* 0b2cb50 Por fin algo de progreso - Archivo 2\n",
        "* 70d3cab Este archivo refleja el segundo compromiso - Archivo 2\n",
        "* 7d057e7 Me gusta mas este nombre\n",
        "* ca56087 Por fin algo de progreso - Archivo 1\n",
        "* 6d9d7e1 Este archivo refleja el primer compromiso - Archivo 1\n"
       ]
      }
     ],
     "prompt_number": 10
    },
    {
     "cell_type": "code",
     "collapsed": false,
     "input": [
      "!dir"
     ],
     "language": "python",
     "metadata": {},
     "outputs": [
      {
       "output_type": "stream",
       "stream": "stdout",
       "text": [
        " El volumen de la unidad C no tiene etiqueta.\n",
        " El n\u00a3mero de serie del volumen es: 7407-B029\n",
        "\n",
        " Directorio de C:\\Users\\Gio\\Documents\\IPython Notebooks\\lania.ipython\\Dia1\\notebooks\\gitdemo\n",
        "\n",
        "07/11/2014  08:08 p.m.    <DIR>          .\n",
        "07/11/2014  08:08 p.m.    <DIR>          ..\n",
        "07/11/2014  08:06 p.m.               133 archivo-nuevo.txt\n",
        "07/11/2014  08:08 p.m.                39 experimento.txt\n",
        "               2 archivos            172 bytes\n",
        "               2 dirs  29,377,159,168 bytes libres\n"
       ]
      }
     ],
     "prompt_number": 11
    }
   ],
   "metadata": {}
  }
 ]
}