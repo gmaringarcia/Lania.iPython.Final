{
 "metadata": {
  "name": "",
  "signature": "sha256:60613a684a2a58938647890907239acec41f0c08b0704f0f0cc9ff93f4db9e6b"
 },
 "nbformat": 3,
 "nbformat_minor": 0,
 "worksheets": [
  {
   "cells": [
    {
     "cell_type": "code",
     "collapsed": false,
     "input": [
      "%run ../talktools.py"
     ],
     "language": "python",
     "metadata": {},
     "outputs": [
      {
       "html": [
        "<link href='http://fonts.googleapis.com/css?family=Alegreya+Sans:100,300,400,500,700,800,900,100italic,300italic,400italic,500italic,700italic,800italic,900italic' rel='stylesheet' type='text/css'>\n",
        "<link href='http://fonts.googleapis.com/css?family=Arvo:400,700,400italic' rel='stylesheet' type='text/css'>\n",
        "<link href='http://fonts.googleapis.com/css?family=PT+Mono' rel='stylesheet' type='text/css'>\n",
        "<link href='http://fonts.googleapis.com/css?family=Shadows+Into+Light' rel='stylesheet' type='text/css'>\n",
        "<link href='http://fonts.googleapis.com/css?family=Nixie+One' rel='stylesheet' type='text/css'>\n",
        "<style>\n",
        "\n",
        "@font-face {\n",
        "    font-family: \"Computer Modern\";\n",
        "    src: url('http://mirrors.ctan.org/fonts/cm-unicode/fonts/otf/cmunss.otf');\n",
        "}\n",
        "\n",
        "#notebook_panel { /* main background */\n",
        "    background: rgb(245,245,245);\n",
        "}\n",
        "\n",
        "div.cell { /* set cell width */\n",
        "    width: 750px;\n",
        "}\n",
        "\n",
        "div #notebook { /* centre the content */\n",
        "    background: #fff; /* white background for content */\n",
        "    width: 1000px;\n",
        "    margin: auto;\n",
        "    padding-left: 0em;\n",
        "}\n",
        "\n",
        "#notebook li { /* More space between bullet points */\n",
        "margin-top:0.8em;\n",
        "}\n",
        "\n",
        "/* draw border around running cells */\n",
        "div.cell.border-box-sizing.code_cell.running { \n",
        "    border: 1px solid #111;\n",
        "}\n",
        "\n",
        "/* Put a solid color box around each cell and its output, visually linking them*/\n",
        "div.cell.code_cell {\n",
        "    background-color: rgb(256,256,256); \n",
        "    border-radius: 0px; \n",
        "    padding: 0.5em;\n",
        "    margin-left:1em;\n",
        "    margin-top: 1em;\n",
        "}\n",
        "\n",
        "div.text_cell_render{\n",
        "    font-family: 'Alegreya Sans' sans-serif;\n",
        "    line-height: 140%;\n",
        "    font-size: 125%;\n",
        "    font-weight: 400;\n",
        "    width:600px;\n",
        "    margin-left:auto;\n",
        "    margin-right:auto;\n",
        "}\n",
        "\n",
        "\n",
        "/* Formatting for header cells */\n",
        ".text_cell_render h1 {\n",
        "    font-family: 'Nixie One', serif;\n",
        "    font-style:regular;\n",
        "    font-weight: 400;    \n",
        "    font-size: 45pt;\n",
        "    line-height: 100%;\n",
        "    color: rgb(0,51,102);\n",
        "    margin-bottom: 0.5em;\n",
        "    margin-top: 0.5em;\n",
        "    display: block;\n",
        "}\t\n",
        ".text_cell_render h2 {\n",
        "    font-family: 'Nixie One', serif;\n",
        "    font-weight: 400;\n",
        "    font-size: 30pt;\n",
        "    line-height: 100%;\n",
        "    color: rgb(0,51,102);\n",
        "    margin-bottom: 0.1em;\n",
        "    margin-top: 0.3em;\n",
        "    display: block;\n",
        "}\t\n",
        "\n",
        ".text_cell_render h3 {\n",
        "    font-family: 'Nixie One', serif;\n",
        "    margin-top:16px;\n",
        "\tfont-size: 22pt;\n",
        "    font-weight: 600;\n",
        "    margin-bottom: 3px;\n",
        "    font-style: regular;\n",
        "    color: rgb(102,102,0);\n",
        "}\n",
        "\n",
        ".text_cell_render h4 {    /*Use this for captions*/\n",
        "    font-family: 'Nixie One', serif;\n",
        "    font-size: 14pt;\n",
        "    text-align: center;\n",
        "    margin-top: 0em;\n",
        "    margin-bottom: 2em;\n",
        "    font-style: regular;\n",
        "}\n",
        "\n",
        ".text_cell_render h5 {  /*Use this for small titles*/\n",
        "    font-family: 'Nixie One', sans-serif;\n",
        "    font-weight: 400;\n",
        "    font-size: 16pt;\n",
        "    color: rgb(163,0,0);\n",
        "    font-style: italic;\n",
        "    margin-bottom: .1em;\n",
        "    margin-top: 0.8em;\n",
        "    display: block;\n",
        "}\n",
        "\n",
        ".text_cell_render h6 { /*use this for copyright note*/\n",
        "    font-family: 'PT Mono', sans-serif;\n",
        "    font-weight: 300;\n",
        "    font-size: 9pt;\n",
        "    line-height: 100%;\n",
        "    color: grey;\n",
        "    margin-bottom: 1px;\n",
        "    margin-top: 1px;\n",
        "}\n",
        "\n",
        ".CodeMirror{\n",
        "        font-family: \"PT Mono\";\n",
        "        font-size: 90%;\n",
        "}\n",
        "\n",
        "</style>\n",
        "<script>\n",
        "    MathJax.Hub.Config({\n",
        "                        TeX: {\n",
        "                           extensions: [\"AMSmath.js\"],\n",
        "                           equationNumbers: { autoNumber: \"AMS\", useLabelIds: true}\n",
        "                           },\n",
        "                tex2jax: {\n",
        "                    inlineMath: [ ['$','$'], [\"\\\\(\",\"\\\\)\"] ],\n",
        "                    displayMath: [ ['$$','$$'], [\"\\\\[\",\"\\\\]\"] ]\n",
        "                },\n",
        "                displayAlign: 'center', // Change this to 'center' to center equations.\n",
        "                \"HTML-CSS\": {\n",
        "                    styles: {'.MathJax_Display': {\"margin\": 4}}\n",
        "                }\n",
        "        });\n",
        "</script>"
       ],
       "metadata": {},
       "output_type": "display_data",
       "text": [
        "<IPython.core.display.HTML at 0x7c0f170>"
       ]
      }
     ],
     "prompt_number": 1
    },
    {
     "cell_type": "code",
     "collapsed": false,
     "input": [
      "!git config --global user.name 'Giovany Marin Garcia'\n",
      "!git config --global user.email gmarin@uv.mx"
     ],
     "language": "python",
     "metadata": {},
     "outputs": [
      {
       "output_type": "stream",
       "stream": "stderr",
       "text": [
        "usage: git config [options]\n",
        "\n",
        "Config file location\n",
        "    --global              use global config file\n",
        "    --system              use system config file\n",
        "    --local               use repository config file\n",
        "    -f, --file <file>     use given config file\n",
        "    --blob <blob-id>      read config from given blob object\n",
        "\n",
        "Action\n",
        "    --get                 get value: name [value-regex]\n",
        "    --get-all             get all values: key [value-regex]\n",
        "    --get-regexp          get values for regexp: name-regex [value-regex]\n",
        "    --get-urlmatch        get value specific for the URL: section[.var] URL\n",
        "    --replace-all         replace all matching variables: name value [value_regex]\n",
        "    --add                 add a new variable: name value\n",
        "    --unset               remove a variable: name [value-regex]\n",
        "    --unset-all           remove all matches: name [value-regex]\n",
        "    --rename-section      rename section: old-name new-name\n",
        "    --remove-section      remove a section: name\n",
        "    -l, --list            list all\n",
        "    -e, --edit            open an editor\n",
        "    --get-color <slot>    find the color configured: [default]\n",
        "    --get-colorbool <slot>\n",
        "                          find the color setting: [stdout-is-tty]\n",
        "\n",
        "Type\n",
        "    --bool                value is \"true\" or \"false\"\n",
        "    --int                 value is decimal number\n",
        "    --bool-or-int         value is --bool or --int\n",
        "    --path                value is a path (file or directory name)\n",
        "\n",
        "Other\n",
        "    -z, --null            terminate values with NUL byte\n",
        "    --includes            respect include directives on lookup\n",
        "\n"
       ]
      }
     ],
     "prompt_number": 3
    },
    {
     "cell_type": "code",
     "collapsed": false,
     "input": [
      "!git config --global core.editor C:\\Windows\\System32\\notepad\n",
      "!git config --global color.ui \"auto\""
     ],
     "language": "python",
     "metadata": {},
     "outputs": [],
     "prompt_number": 5
    },
    {
     "cell_type": "code",
     "collapsed": false,
     "input": [
      "!git config --global credential.helper cache\n",
      "!git config --global credential.helper 'cache --timeout=3600'\n",
      "!git config --global push.default simple"
     ],
     "language": "python",
     "metadata": {},
     "outputs": [],
     "prompt_number": 6
    },
    {
     "cell_type": "code",
     "collapsed": false,
     "input": [
      "!git"
     ],
     "language": "python",
     "metadata": {},
     "outputs": [
      {
       "output_type": "stream",
       "stream": "stdout",
       "text": [
        "usage: git [--version] [--help] [-C <path>] [-c name=value]\n",
        "           [--exec-path[=<path>]] [--html-path] [--man-path] [--info-path]\n",
        "           [-p|--paginate|--no-pager] [--no-replace-objects] [--bare]\n",
        "           [--git-dir=<path>] [--work-tree=<path>] [--namespace=<name>]\n",
        "           <command> [<args>]\n",
        "\n",
        "The most commonly used git commands are:\n",
        "   add        Add file contents to the index\n",
        "   bisect     Find by binary search the change that introduced a bug\n",
        "   branch     List, create, or delete branches\n",
        "   checkout   Checkout a branch or paths to the working tree\n",
        "   clone      Clone a repository into a new directory\n",
        "   commit     Record changes to the repository\n",
        "   diff       Show changes between commits, commit and working tree, etc\n",
        "   fetch      Download objects and refs from another repository\n",
        "   grep       Print lines matching a pattern\n",
        "   init       Create an empty Git repository or reinitialize an existing one\n",
        "   log        Show commit logs\n",
        "   merge      Join two or more development histories together\n",
        "   mv         Move or rename a file, a directory, or a symlink\n",
        "   pull       Fetch from and integrate with another repository or a local branch\n",
        "   push       Update remote refs along with associated objects\n",
        "   rebase     Forward-port local commits to the updated upstream head\n",
        "   reset      Reset current HEAD to the specified state\n",
        "   rm         Remove files from the working tree and from the index\n",
        "   show       Show various types of objects\n",
        "   status     Show the working tree status\n",
        "   tag        Create, list, delete or verify a tag object signed with GPG\n",
        "\n",
        "'git help -a' and 'git help -g' lists available subcommands and some\n",
        "concept guides. See 'git help <command>' or 'git help <concept>'\n",
        "to read about a specific subcommand or concept.\n"
       ]
      }
     ],
     "prompt_number": 7
    },
    {
     "cell_type": "code",
     "collapsed": false,
     "input": [
      "!del -rf gitdemo\n",
      "!git init gitdemo"
     ],
     "language": "python",
     "metadata": {},
     "outputs": [
      {
       "output_type": "stream",
       "stream": "stderr",
       "text": [
        "No se pudo encontrar C:\\Users\\Gio\\Documents\\IPython Notebooks\\lania.ipython\\Dia1\\notebooks\\-rf\n"
       ]
      },
      {
       "output_type": "stream",
       "stream": "stdout",
       "text": [
        "Initialized empty Git repository in C:/Users/Gio/Documents/IPython Notebooks/lania.ipython/Dia1/notebooks/gitdemo/.git/\n"
       ]
      }
     ],
     "prompt_number": 1
    },
    {
     "cell_type": "code",
     "collapsed": false,
     "input": [
      "import os\n",
      "os.getcwd()\n",
      "os.chdir('gitdemo')\n",
      "\n",
      "!dir"
     ],
     "language": "python",
     "metadata": {},
     "outputs": [
      {
       "output_type": "stream",
       "stream": "stdout",
       "text": [
        " El volumen de la unidad C no tiene etiqueta.\n",
        " El n\u00a3mero de serie del volumen es: 7407-B029\n",
        "\n",
        " Directorio de C:\\Users\\Gio\\Documents\\IPython Notebooks\\lania.ipython\\Dia1\\notebooks\\gitdemo\n",
        "\n",
        "07/11/2014  07:09 p.m.    <DIR>          .\n",
        "07/11/2014  07:09 p.m.    <DIR>          ..\n",
        "               0 archivos              0 bytes\n",
        "               2 dirs  29,377,392,640 bytes libres\n"
       ]
      }
     ],
     "prompt_number": 3
    },
    {
     "cell_type": "code",
     "collapsed": false,
     "input": [
      "import os\n",
      "os.getcwd()\n",
      "os.chdir('.git')\n",
      "\n",
      "!dir"
     ],
     "language": "python",
     "metadata": {},
     "outputs": [
      {
       "output_type": "stream",
       "stream": "stdout",
       "text": [
        " El volumen de la unidad C no tiene etiqueta.\n",
        " El n\u00a3mero de serie del volumen es: 7407-B029\n",
        "\n",
        " Directorio de C:\\Users\\Gio\\Documents\\IPython Notebooks\\lania.ipython\\Dia1\\notebooks\\gitdemo\\.git\n",
        "\n",
        "07/11/2014  07:09 p.m.               157 config\n",
        "07/11/2014  07:09 p.m.                73 description\n",
        "07/11/2014  07:09 p.m.                23 HEAD\n",
        "07/11/2014  07:09 p.m.    <DIR>          hooks\n",
        "07/11/2014  07:09 p.m.    <DIR>          info\n",
        "07/11/2014  07:09 p.m.    <DIR>          objects\n",
        "07/11/2014  07:09 p.m.    <DIR>          refs\n",
        "               3 archivos            253 bytes\n",
        "               4 dirs  29,377,327,104 bytes libres\n"
       ]
      }
     ],
     "prompt_number": 4
    },
    {
     "cell_type": "code",
     "collapsed": false,
     "input": [
      "import os\n",
      "os.getcwd()\n",
      "os.chdir('..')\n",
      "\n",
      "!dir"
     ],
     "language": "python",
     "metadata": {},
     "outputs": [
      {
       "output_type": "stream",
       "stream": "stdout",
       "text": [
        " El volumen de la unidad C no tiene etiqueta.\n",
        " El n\u00a3mero de serie del volumen es: 7407-B029\n",
        "\n",
        " Directorio de C:\\Users\\Gio\\Documents\\IPython Notebooks\\lania.ipython\\Dia1\\notebooks\\gitdemo\n",
        "\n",
        "07/11/2014  07:09 p.m.    <DIR>          .\n",
        "07/11/2014  07:09 p.m.    <DIR>          ..\n",
        "               0 archivos              0 bytes\n",
        "               2 dirs  29,377,327,104 bytes libres\n"
       ]
      }
     ],
     "prompt_number": 5
    },
    {
     "cell_type": "code",
     "collapsed": false,
     "input": [
      "echo \"Mi primer texto - Archivo 1\" > archivo1.txt"
     ],
     "language": "python",
     "metadata": {},
     "outputs": [],
     "prompt_number": 6
    },
    {
     "cell_type": "code",
     "collapsed": false,
     "input": [
      "!dir"
     ],
     "language": "python",
     "metadata": {},
     "outputs": [
      {
       "output_type": "stream",
       "stream": "stdout",
       "text": [
        " El volumen de la unidad C no tiene etiqueta.\n",
        " El n\u00a3mero de serie del volumen es: 7407-B029\n",
        "\n",
        " Directorio de C:\\Users\\Gio\\Documents\\IPython Notebooks\\lania.ipython\\Dia1\\notebooks\\gitdemo\n",
        "\n",
        "07/11/2014  07:25 p.m.    <DIR>          .\n",
        "07/11/2014  07:25 p.m.    <DIR>          ..\n",
        "07/11/2014  07:25 p.m.                32 archivo1.txt\n",
        "               1 archivos             32 bytes\n",
        "               2 dirs  29,377,282,048 bytes libres\n"
       ]
      }
     ],
     "prompt_number": 7
    },
    {
     "cell_type": "code",
     "collapsed": false,
     "input": [
      "!git add archivo1.txt"
     ],
     "language": "python",
     "metadata": {},
     "outputs": [],
     "prompt_number": 8
    },
    {
     "cell_type": "code",
     "collapsed": false,
     "input": [
      "!git status"
     ],
     "language": "python",
     "metadata": {},
     "outputs": [
      {
       "output_type": "stream",
       "stream": "stdout",
       "text": [
        "On branch master\n",
        "\n",
        "Initial commit\n",
        "\n",
        "Changes to be committed:\n",
        "  (use \"git rm --cached <file>...\" to unstage)\n",
        "\n",
        "\tnew file:   archivo1.txt\n",
        "\n"
       ]
      }
     ],
     "prompt_number": 9
    },
    {
     "cell_type": "code",
     "collapsed": false,
     "input": [
      "!git commit -a -m \"Este archivo refleja el primer compromiso - Archivo 1\""
     ],
     "language": "python",
     "metadata": {},
     "outputs": [
      {
       "output_type": "stream",
       "stream": "stdout",
       "text": [
        "[master (root-commit) 6d9d7e1] Este archivo refleja el primer compromiso - Archivo 1\n",
        " 1 file changed, 1 insertion(+)\n",
        " create mode 100644 archivo1.txt\n"
       ]
      }
     ],
     "prompt_number": 10
    },
    {
     "cell_type": "code",
     "collapsed": false,
     "input": [
      "!git log"
     ],
     "language": "python",
     "metadata": {},
     "outputs": [
      {
       "output_type": "stream",
       "stream": "stdout",
       "text": [
        "commit 6d9d7e1c0eba7d3f28f25e094a874312d4c9bab3\n",
        "Author: gmaringarcia <gmarin@uv.mx>\n",
        "Date:   Fri Nov 7 19:29:29 2014 -0600\n",
        "\n",
        "    Este archivo refleja el primer compromiso - Archivo 1\n"
       ]
      }
     ],
     "prompt_number": 11
    },
    {
     "cell_type": "code",
     "collapsed": false,
     "input": [
      "echo \"Esta linea es mi segundo texto... - Archivo 1\" >> archivo1.txt"
     ],
     "language": "python",
     "metadata": {},
     "outputs": [],
     "prompt_number": 12
    },
    {
     "cell_type": "code",
     "collapsed": false,
     "input": [
      "!git diff"
     ],
     "language": "python",
     "metadata": {},
     "outputs": [
      {
       "output_type": "stream",
       "stream": "stdout",
       "text": [
        "diff --git a/archivo1.txt b/archivo1.txt\n",
        "index 3af282e..ee927b1 100644\n",
        "--- a/archivo1.txt\n",
        "+++ b/archivo1.txt\n",
        "@@ -1 +1,2 @@\n",
        " \"Mi primer texto - Archivo 1\" \n",
        "+\"Esta linea es mi segundo texto... - Archivo 1\" \n"
       ]
      }
     ],
     "prompt_number": 13
    },
    {
     "cell_type": "code",
     "collapsed": false,
     "input": [
      "!git commit -a -m \"Por fin algo de progreso - Archivo 1\""
     ],
     "language": "python",
     "metadata": {},
     "outputs": [
      {
       "output_type": "stream",
       "stream": "stdout",
       "text": [
        "[master ca56087] Por fin algo de progreso - Archivo 1\n",
        " 1 file changed, 1 insertion(+)\n"
       ]
      }
     ],
     "prompt_number": 14
    },
    {
     "cell_type": "code",
     "collapsed": false,
     "input": [
      "!git log"
     ],
     "language": "python",
     "metadata": {},
     "outputs": [
      {
       "output_type": "stream",
       "stream": "stdout",
       "text": [
        "commit ca56087c172a7deb5a4fe6ba01ccfc5f9e1e4408\n",
        "Author: gmaringarcia <gmarin@uv.mx>\n",
        "Date:   Fri Nov 7 19:35:00 2014 -0600\n",
        "\n",
        "    Por fin algo de progreso - Archivo 1\n",
        "\n",
        "commit 6d9d7e1c0eba7d3f28f25e094a874312d4c9bab3\n",
        "Author: gmaringarcia <gmarin@uv.mx>\n",
        "Date:   Fri Nov 7 19:29:29 2014 -0600\n",
        "\n",
        "    Este archivo refleja el primer compromiso - Archivo 1\n"
       ]
      }
     ],
     "prompt_number": 15
    },
    {
     "cell_type": "code",
     "collapsed": false,
     "input": [
      "!git log --oneline --topo-order --graph"
     ],
     "language": "python",
     "metadata": {},
     "outputs": [
      {
       "output_type": "stream",
       "stream": "stdout",
       "text": [
        "* ca56087 Por fin algo de progreso - Archivo 1\n",
        "* 6d9d7e1 Este archivo refleja el primer compromiso - Archivo 1\n"
       ]
      }
     ],
     "prompt_number": 16
    },
    {
     "cell_type": "code",
     "collapsed": false,
     "input": [
      "!git config --global alias.slog \"log --oneline --topo-order --graph\"\n",
      "!git slog"
     ],
     "language": "python",
     "metadata": {},
     "outputs": [
      {
       "output_type": "stream",
       "stream": "stdout",
       "text": [
        "* ca56087 Por fin algo de progreso - Archivo 1\n",
        "* 6d9d7e1 Este archivo refleja el primer compromiso - Archivo 1\n"
       ]
      }
     ],
     "prompt_number": 17
    },
    {
     "cell_type": "code",
     "collapsed": false,
     "input": [
      "!git mv archivo1.txt archivo-nuevo.txt\n",
      "!git status"
     ],
     "language": "python",
     "metadata": {},
     "outputs": [
      {
       "output_type": "stream",
       "stream": "stdout",
       "text": [
        "On branch master\n",
        "Changes to be committed:\n",
        "  (use \"git reset HEAD <file>...\" to unstage)\n",
        "\n",
        "\trenamed:    archivo1.txt -> archivo-nuevo.txt\n",
        "\n"
       ]
      }
     ],
     "prompt_number": 18
    },
    {
     "cell_type": "code",
     "collapsed": false,
     "input": [
      "!git commit -a -m \"Me gusta mas este nombre\"\n",
      "!echo \"Aqui esta el resumen:\"\n",
      "!git slog"
     ],
     "language": "python",
     "metadata": {},
     "outputs": [
      {
       "output_type": "stream",
       "stream": "stdout",
       "text": [
        "[master 7d057e7] Me gusta mas este nombre\n",
        " 1 file changed, 0 insertions(+), 0 deletions(-)\n",
        " rename archivo1.txt => archivo-nuevo.txt (100%)\n"
       ]
      },
      {
       "output_type": "stream",
       "stream": "stdout",
       "text": [
        "\"Aqui esta el resumen:\"\n"
       ]
      },
      {
       "output_type": "stream",
       "stream": "stdout",
       "text": [
        "* 7d057e7 Me gusta mas este nombre\n",
        "* ca56087 Por fin algo de progreso - Archivo 1\n",
        "* 6d9d7e1 Este archivo refleja el primer compromiso - Archivo 1\n"
       ]
      }
     ],
     "prompt_number": 20
    },
    {
     "cell_type": "heading",
     "level": 4,
     "metadata": {},
     "source": [
      "Ejercicio"
     ]
    },
    {
     "cell_type": "code",
     "collapsed": false,
     "input": [
      "echo \"Mi segundo texto - Archivo 2\" > archivo2.txt"
     ],
     "language": "python",
     "metadata": {},
     "outputs": [],
     "prompt_number": 21
    },
    {
     "cell_type": "code",
     "collapsed": false,
     "input": [
      "!dir"
     ],
     "language": "python",
     "metadata": {},
     "outputs": [
      {
       "output_type": "stream",
       "stream": "stdout",
       "text": [
        " El volumen de la unidad C no tiene etiqueta.\n",
        " El n\u00a3mero de serie del volumen es: 7407-B029\n",
        "\n",
        " Directorio de C:\\Users\\Gio\\Documents\\IPython Notebooks\\lania.ipython\\Dia1\\notebooks\\gitdemo\n",
        "\n",
        "07/11/2014  07:42 p.m.    <DIR>          .\n",
        "07/11/2014  07:42 p.m.    <DIR>          ..\n",
        "07/11/2014  07:33 p.m.                82 archivo-nuevo.txt\n",
        "07/11/2014  07:42 p.m.                33 archivo2.txt\n",
        "               2 archivos            115 bytes\n",
        "               2 dirs  29,377,114,112 bytes libres\n"
       ]
      }
     ],
     "prompt_number": 22
    },
    {
     "cell_type": "code",
     "collapsed": false,
     "input": [
      "!git add archivo2.txt"
     ],
     "language": "python",
     "metadata": {},
     "outputs": [],
     "prompt_number": 23
    },
    {
     "cell_type": "code",
     "collapsed": false,
     "input": [
      "!git commit -a -m \"Este archivo refleja el segundo compromiso - Archivo 2\""
     ],
     "language": "python",
     "metadata": {},
     "outputs": [
      {
       "output_type": "stream",
       "stream": "stdout",
       "text": [
        "[master 70d3cab] Este archivo refleja el segundo compromiso - Archivo 2\n",
        " 1 file changed, 1 insertion(+)\n",
        " create mode 100644 archivo2.txt\n"
       ]
      }
     ],
     "prompt_number": 24
    },
    {
     "cell_type": "code",
     "collapsed": false,
     "input": [
      "!git log"
     ],
     "language": "python",
     "metadata": {},
     "outputs": [
      {
       "output_type": "stream",
       "stream": "stdout",
       "text": [
        "commit 70d3caba59808c93eba1c36bfce903883613f2ba\n",
        "Author: gmaringarcia <gmarin@uv.mx>\n",
        "Date:   Fri Nov 7 19:44:49 2014 -0600\n",
        "\n",
        "    Este archivo refleja el segundo compromiso - Archivo 2\n",
        "\n",
        "commit 7d057e71c535bbf5c0a87cd2daf0e9f69140132d\n",
        "Author: gmaringarcia <gmarin@uv.mx>\n",
        "Date:   Fri Nov 7 19:40:04 2014 -0600\n",
        "\n",
        "    Me gusta mas este nombre\n",
        "\n",
        "commit ca56087c172a7deb5a4fe6ba01ccfc5f9e1e4408\n",
        "Author: gmaringarcia <gmarin@uv.mx>\n",
        "Date:   Fri Nov 7 19:35:00 2014 -0600\n",
        "\n",
        "    Por fin algo de progreso - Archivo 1\n",
        "\n",
        "commit 6d9d7e1c0eba7d3f28f25e094a874312d4c9bab3\n",
        "Author: gmaringarcia <gmarin@uv.mx>\n",
        "Date:   Fri Nov 7 19:29:29 2014 -0600\n",
        "\n",
        "    Este archivo refleja el primer compromiso - Archivo 1\n"
       ]
      }
     ],
     "prompt_number": 25
    },
    {
     "cell_type": "code",
     "collapsed": false,
     "input": [
      "echo \"Esta segunda linea es mi segundo texto... - Archivo 2\" >> archivo2.txt"
     ],
     "language": "python",
     "metadata": {},
     "outputs": [],
     "prompt_number": 26
    },
    {
     "cell_type": "code",
     "collapsed": false,
     "input": [
      "!git diff"
     ],
     "language": "python",
     "metadata": {},
     "outputs": [
      {
       "output_type": "stream",
       "stream": "stdout",
       "text": [
        "diff --git a/archivo2.txt b/archivo2.txt\n",
        "index 0b7b6ba..fec3236 100644\n",
        "--- a/archivo2.txt\n",
        "+++ b/archivo2.txt\n",
        "@@ -1 +1,2 @@\n",
        " \"Mi segundo texto - Archivo 2\" \n",
        "+\"Esta segunda linea es mi segundo texto... - Archivo 2\" \n"
       ]
      }
     ],
     "prompt_number": 27
    },
    {
     "cell_type": "code",
     "collapsed": false,
     "input": [
      "!git commit -a -m \"Por fin algo de progreso - Archivo 2\""
     ],
     "language": "python",
     "metadata": {},
     "outputs": [
      {
       "output_type": "stream",
       "stream": "stdout",
       "text": [
        "[master 0b2cb50] Por fin algo de progreso - Archivo 2\n",
        " 1 file changed, 1 insertion(+)\n"
       ]
      }
     ],
     "prompt_number": 28
    },
    {
     "cell_type": "code",
     "collapsed": false,
     "input": [
      "!git log"
     ],
     "language": "python",
     "metadata": {},
     "outputs": [
      {
       "output_type": "stream",
       "stream": "stdout",
       "text": [
        "commit 0b2cb50a095b99b2e6e77b2fbe21e00001d7b973\n",
        "Author: gmaringarcia <gmarin@uv.mx>\n",
        "Date:   Fri Nov 7 19:47:43 2014 -0600\n",
        "\n",
        "    Por fin algo de progreso - Archivo 2\n",
        "\n",
        "commit 70d3caba59808c93eba1c36bfce903883613f2ba\n",
        "Author: gmaringarcia <gmarin@uv.mx>\n",
        "Date:   Fri Nov 7 19:44:49 2014 -0600\n",
        "\n",
        "    Este archivo refleja el segundo compromiso - Archivo 2\n",
        "\n",
        "commit 7d057e71c535bbf5c0a87cd2daf0e9f69140132d\n",
        "Author: gmaringarcia <gmarin@uv.mx>\n",
        "Date:   Fri Nov 7 19:40:04 2014 -0600\n",
        "\n",
        "    Me gusta mas este nombre\n",
        "\n",
        "commit ca56087c172a7deb5a4fe6ba01ccfc5f9e1e4408\n",
        "Author: gmaringarcia <gmarin@uv.mx>\n",
        "Date:   Fri Nov 7 19:35:00 2014 -0600\n",
        "\n",
        "    Por fin algo de progreso - Archivo 1\n",
        "\n",
        "commit 6d9d7e1c0eba7d3f28f25e094a874312d4c9bab3\n",
        "Author: gmaringarcia <gmarin@uv.mx>\n",
        "Date:   Fri Nov 7 19:29:29 2014 -0600\n",
        "\n",
        "    Este archivo refleja el primer compromiso - Archivo 1\n"
       ]
      }
     ],
     "prompt_number": 29
    },
    {
     "cell_type": "code",
     "collapsed": false,
     "input": [
      "!git rm archivo2.txt\n",
      "!git status"
     ],
     "language": "python",
     "metadata": {},
     "outputs": [
      {
       "output_type": "stream",
       "stream": "stdout",
       "text": [
        "rm 'archivo2.txt'\n"
       ]
      },
      {
       "output_type": "stream",
       "stream": "stdout",
       "text": [
        "On branch master\n",
        "Changes to be committed:\n",
        "  (use \"git reset HEAD <file>...\" to unstage)\n",
        "\n",
        "\tdeleted:    archivo2.txt\n",
        "\n"
       ]
      }
     ],
     "prompt_number": 31
    },
    {
     "cell_type": "code",
     "collapsed": false,
     "input": [
      "!git commit -a -m \"Se elimino el archivo2.txt\"\n",
      "!echo \"Aqui esta el resumen:\"\n",
      "!git slog"
     ],
     "language": "python",
     "metadata": {},
     "outputs": [
      {
       "output_type": "stream",
       "stream": "stdout",
       "text": [
        "[master 522c862] Se elimino el archivo2.txt\n",
        " 1 file changed, 2 deletions(-)\n",
        " delete mode 100644 archivo2.txt\n"
       ]
      },
      {
       "output_type": "stream",
       "stream": "stdout",
       "text": [
        "\"Aqui esta el resumen:\"\n"
       ]
      },
      {
       "output_type": "stream",
       "stream": "stdout",
       "text": [
        "* 522c862 Se elimino el archivo2.txt\n",
        "* 0b2cb50 Por fin algo de progreso - Archivo 2\n",
        "* 70d3cab Este archivo refleja el segundo compromiso - Archivo 2\n",
        "* 7d057e7 Me gusta mas este nombre\n",
        "* ca56087 Por fin algo de progreso - Archivo 1\n",
        "* 6d9d7e1 Este archivo refleja el primer compromiso - Archivo 1\n"
       ]
      }
     ],
     "prompt_number": 32
    },
    {
     "cell_type": "code",
     "collapsed": false,
     "input": [
      "!dir"
     ],
     "language": "python",
     "metadata": {},
     "outputs": [
      {
       "output_type": "stream",
       "stream": "stdout",
       "text": [
        " El volumen de la unidad C no tiene etiqueta.\n",
        " El n\u00a3mero de serie del volumen es: 7407-B029\n",
        "\n",
        " Directorio de C:\\Users\\Gio\\Documents\\IPython Notebooks\\lania.ipython\\Dia1\\notebooks\\gitdemo\n",
        "\n",
        "07/11/2014  07:50 p.m.    <DIR>          .\n",
        "07/11/2014  07:50 p.m.    <DIR>          ..\n",
        "07/11/2014  07:33 p.m.                82 archivo-nuevo.txt\n",
        "               1 archivos             82 bytes\n",
        "               2 dirs  29,377,118,208 bytes libres\n"
       ]
      }
     ],
     "prompt_number": 33
    }
   ],
   "metadata": {}
  }
 ]
}